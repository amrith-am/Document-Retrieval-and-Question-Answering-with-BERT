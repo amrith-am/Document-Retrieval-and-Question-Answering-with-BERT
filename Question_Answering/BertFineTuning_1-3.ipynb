{
 "cells": [
  {
   "cell_type": "markdown",
   "metadata": {
    "id": "HG5IWpP03PMj"
   },
   "source": [
    "### Install transformers library"
   ]
  },
  {
   "cell_type": "code",
   "execution_count": null,
   "metadata": {
    "colab": {
     "base_uri": "https://localhost:8080/"
    },
    "id": "uC-Kx4ij3T6a",
    "outputId": "63c3dee6-4d65-45ca-f644-f8ab2760d19a"
   },
   "outputs": [
    {
     "name": "stdout",
     "output_type": "stream",
     "text": [
      "Collecting transformers\n",
      "\u001b[?25l  Downloading https://files.pythonhosted.org/packages/88/b1/41130a228dd656a1a31ba281598a968320283f48d42782845f6ba567f00b/transformers-4.2.2-py3-none-any.whl (1.8MB)\n",
      "\u001b[K     |████████████████████████████████| 1.8MB 15.6MB/s \n",
      "\u001b[?25hCollecting sacremoses\n",
      "\u001b[?25l  Downloading https://files.pythonhosted.org/packages/7d/34/09d19aff26edcc8eb2a01bed8e98f13a1537005d31e95233fd48216eed10/sacremoses-0.0.43.tar.gz (883kB)\n",
      "\u001b[K     |████████████████████████████████| 890kB 35.7MB/s \n",
      "\u001b[?25hRequirement already satisfied: numpy in /usr/local/lib/python3.6/dist-packages (from transformers) (1.19.5)\n",
      "Requirement already satisfied: dataclasses; python_version < \"3.7\" in /usr/local/lib/python3.6/dist-packages (from transformers) (0.8)\n",
      "Requirement already satisfied: filelock in /usr/local/lib/python3.6/dist-packages (from transformers) (3.0.12)\n",
      "Requirement already satisfied: regex!=2019.12.17 in /usr/local/lib/python3.6/dist-packages (from transformers) (2019.12.20)\n",
      "Requirement already satisfied: importlib-metadata; python_version < \"3.8\" in /usr/local/lib/python3.6/dist-packages (from transformers) (3.3.0)\n",
      "Requirement already satisfied: packaging in /usr/local/lib/python3.6/dist-packages (from transformers) (20.8)\n",
      "Requirement already satisfied: tqdm>=4.27 in /usr/local/lib/python3.6/dist-packages (from transformers) (4.41.1)\n",
      "Collecting tokenizers==0.9.4\n",
      "\u001b[?25l  Downloading https://files.pythonhosted.org/packages/0f/1c/e789a8b12e28be5bc1ce2156cf87cb522b379be9cadc7ad8091a4cc107c4/tokenizers-0.9.4-cp36-cp36m-manylinux2010_x86_64.whl (2.9MB)\n",
      "\u001b[K     |████████████████████████████████| 2.9MB 51.7MB/s \n",
      "\u001b[?25hRequirement already satisfied: requests in /usr/local/lib/python3.6/dist-packages (from transformers) (2.23.0)\n",
      "Requirement already satisfied: six in /usr/local/lib/python3.6/dist-packages (from sacremoses->transformers) (1.15.0)\n",
      "Requirement already satisfied: click in /usr/local/lib/python3.6/dist-packages (from sacremoses->transformers) (7.1.2)\n",
      "Requirement already satisfied: joblib in /usr/local/lib/python3.6/dist-packages (from sacremoses->transformers) (1.0.0)\n",
      "Requirement already satisfied: zipp>=0.5 in /usr/local/lib/python3.6/dist-packages (from importlib-metadata; python_version < \"3.8\"->transformers) (3.4.0)\n",
      "Requirement already satisfied: typing-extensions>=3.6.4; python_version < \"3.8\" in /usr/local/lib/python3.6/dist-packages (from importlib-metadata; python_version < \"3.8\"->transformers) (3.7.4.3)\n",
      "Requirement already satisfied: pyparsing>=2.0.2 in /usr/local/lib/python3.6/dist-packages (from packaging->transformers) (2.4.7)\n",
      "Requirement already satisfied: chardet<4,>=3.0.2 in /usr/local/lib/python3.6/dist-packages (from requests->transformers) (3.0.4)\n",
      "Requirement already satisfied: certifi>=2017.4.17 in /usr/local/lib/python3.6/dist-packages (from requests->transformers) (2020.12.5)\n",
      "Requirement already satisfied: urllib3!=1.25.0,!=1.25.1,<1.26,>=1.21.1 in /usr/local/lib/python3.6/dist-packages (from requests->transformers) (1.24.3)\n",
      "Requirement already satisfied: idna<3,>=2.5 in /usr/local/lib/python3.6/dist-packages (from requests->transformers) (2.10)\n",
      "Building wheels for collected packages: sacremoses\n",
      "  Building wheel for sacremoses (setup.py) ... \u001b[?25l\u001b[?25hdone\n",
      "  Created wheel for sacremoses: filename=sacremoses-0.0.43-cp36-none-any.whl size=893261 sha256=b77ccb61c07e2d3a58ecf67a41f17cb7d95c43ca2f2ba85b621b40a6ce0d1419\n",
      "  Stored in directory: /root/.cache/pip/wheels/29/3c/fd/7ce5c3f0666dab31a50123635e6fb5e19ceb42ce38d4e58f45\n",
      "Successfully built sacremoses\n",
      "Installing collected packages: sacremoses, tokenizers, transformers\n",
      "Successfully installed sacremoses-0.0.43 tokenizers-0.9.4 transformers-4.2.2\n"
     ]
    }
   ],
   "source": [
    "!pip install transformers"
   ]
  },
  {
   "cell_type": "markdown",
   "metadata": {
    "id": "kAFnm5Hwt-OK"
   },
   "source": [
    "### Essential libraries imported"
   ]
  },
  {
   "cell_type": "code",
   "execution_count": null,
   "metadata": {
    "colab": {
     "base_uri": "https://localhost:8080/"
    },
    "id": "0cwevUPEt9s-",
    "outputId": "e2b712e1-4de0-4ab7-e083-fd75187fd1ea"
   },
   "outputs": [
    {
     "name": "stdout",
     "output_type": "stream",
     "text": [
      "Mounted at /content/drive\n"
     ]
    }
   ],
   "source": [
    "import json,torch,time,pickle\n",
    "import matplotlib.pyplot as plt \n",
    "from pathlib import Path\n",
    "from transformers import BertTokenizer,AutoTokenizer,AdamW,BertForQuestionAnswering,BertTokenizerFast\n",
    "from torch.utils.data import DataLoader\n",
    "from google.colab import drive\n",
    "drive.mount(\"/content/drive\") "
   ]
  },
  {
   "cell_type": "markdown",
   "metadata": {
    "id": "gxn9mp20tAW0"
   },
   "source": [
    "### Retrieve SQuAD 2.0 dataset"
   ]
  },
  {
   "cell_type": "code",
   "execution_count": null,
   "metadata": {
    "colab": {
     "base_uri": "https://localhost:8080/"
    },
    "id": "Rv89xnnjimny",
    "outputId": "9f62e6fb-7ab0-453b-8459-9a2379487eca"
   },
   "outputs": [
    {
     "name": "stdout",
     "output_type": "stream",
     "text": [
      "--2021-01-24 10:31:36--  https://rajpurkar.github.io/SQuAD-explorer/dataset/train-v2.0.json\n",
      "Resolving rajpurkar.github.io (rajpurkar.github.io)... 185.199.108.153, 185.199.109.153, 185.199.110.153, ...\n",
      "Connecting to rajpurkar.github.io (rajpurkar.github.io)|185.199.108.153|:443... connected.\n",
      "HTTP request sent, awaiting response... 200 OK\n",
      "Length: 42123633 (40M) [application/json]\n",
      "Saving to: ‘squad/train-v2.0.json’\n",
      "\n",
      "squad/train-v2.0.js 100%[===================>]  40.17M   257MB/s    in 0.2s    \n",
      "\n",
      "2021-01-24 10:31:36 (257 MB/s) - ‘squad/train-v2.0.json’ saved [42123633/42123633]\n",
      "\n",
      "--2021-01-24 10:31:36--  https://rajpurkar.github.io/SQuAD-explorer/dataset/dev-v2.0.json\n",
      "Resolving rajpurkar.github.io (rajpurkar.github.io)... 185.199.108.153, 185.199.109.153, 185.199.110.153, ...\n",
      "Connecting to rajpurkar.github.io (rajpurkar.github.io)|185.199.108.153|:443... connected.\n",
      "HTTP request sent, awaiting response... 200 OK\n",
      "Length: 4370528 (4.2M) [application/json]\n",
      "Saving to: ‘squad/dev-v2.0.json’\n",
      "\n",
      "squad/dev-v2.0.json 100%[===================>]   4.17M  --.-KB/s    in 0.05s   \n",
      "\n",
      "2021-01-24 10:31:36 (90.0 MB/s) - ‘squad/dev-v2.0.json’ saved [4370528/4370528]\n",
      "\n"
     ]
    }
   ],
   "source": [
    "!mkdir squad  \n",
    "!wget https://rajpurkar.github.io/SQuAD-explorer/dataset/train-v2.0.json -O squad/train-v2.0.json\n",
    "!wget https://rajpurkar.github.io/SQuAD-explorer/dataset/dev-v2.0.json -O squad/dev-v2.0.json"
   ]
  },
  {
   "cell_type": "markdown",
   "metadata": {
    "id": "OsWRMwlR6DwQ"
   },
   "source": [
    "### Prepare GPU Cuda."
   ]
  },
  {
   "cell_type": "code",
   "execution_count": null,
   "metadata": {
    "colab": {
     "base_uri": "https://localhost:8080/"
    },
    "id": "hN25lAzQ6Jws",
    "outputId": "cb2f77a3-35ae-4fc5-b97d-b4f9f2f26b01"
   },
   "outputs": [
    {
     "name": "stdout",
     "output_type": "stream",
     "text": [
      "Device available for running: \n",
      "cuda\n"
     ]
    }
   ],
   "source": [
    "device = torch.device(\"cuda\" if torch.cuda.is_available() else \"cpu\")\n",
    "print(\"Device available for running: \")\n",
    "print(device)"
   ]
  },
  {
   "cell_type": "markdown",
   "metadata": {
    "id": "x1i0eo-ZuCpW"
   },
   "source": [
    "### Obtain train and validation data (contexts,questions,answers) from json files"
   ]
  },
  {
   "cell_type": "code",
   "execution_count": null,
   "metadata": {
    "id": "4Km1KD8esc6i"
   },
   "outputs": [],
   "source": [
    "def read_squad(path):\n",
    "  path = Path(path)\n",
    "  with open(path, 'rb') as f:\n",
    "    squad_dict = json.load(f)\n",
    "\n",
    "  contexts = []\n",
    "  questions = []\n",
    "  answers = []\n",
    "  for group in squad_dict['data']:\n",
    "    for passage in group['paragraphs']:\n",
    "      context = passage['context']\n",
    "      for qa in passage['qas']:\n",
    "        question = qa['question']\n",
    "        for answer in qa['answers']:\n",
    "          contexts.append(context)\n",
    "          questions.append(question)\n",
    "          answers.append(answer)\n",
    "\n",
    "  return contexts, questions, answers\n",
    "\n",
    "# Obtain train contexts,questions and answers\n",
    "train_contexts, train_questions, train_answers = read_squad('squad/train-v2.0.json')\n",
    "\n",
    "# Obtain validaton contexts,questions and answers\n",
    "val_contexts, val_questions, val_answers = read_squad('squad/dev-v2.0.json')"
   ]
  },
  {
   "cell_type": "markdown",
   "metadata": {
    "id": "ms8GX4LqfOmX"
   },
   "source": [
    "### Just a random printing for safety reasons\n",
    "\n"
   ]
  },
  {
   "cell_type": "code",
   "execution_count": null,
   "metadata": {
    "colab": {
     "base_uri": "https://localhost:8080/",
     "height": 717
    },
    "id": "jNAVfYyruGdX",
    "outputId": "32b84f0b-10ae-405a-a7ee-672ae4a0cff7"
   },
   "outputs": [
    {
     "name": "stdout",
     "output_type": "stream",
     "text": [
      "============================== Train Dataset ======================================\n",
      "\n",
      "Contexts length: 86821\n",
      "Questions: 86821\n",
      "Answers length: 86821\n",
      "\n",
      "\n"
     ]
    },
    {
     "data": {
      "application/vnd.google.colaboratory.intrinsic+json": {
       "type": "string"
      },
      "text/plain": [
       "'Beyoncé Giselle Knowles-Carter (/biːˈjɒnseɪ/ bee-YON-say) (born September 4, 1981) is an American singer, songwriter, record producer and actress. Born and raised in Houston, Texas, she performed in various singing and dancing competitions as a child, and rose to fame in the late 1990s as lead singer of R&B girl-group Destiny\\'s Child. Managed by her father, Mathew Knowles, the group became one of the world\\'s best-selling girl groups of all time. Their hiatus saw the release of Beyoncé\\'s debut album, Dangerously in Love (2003), which established her as a solo artist worldwide, earned five Grammy Awards and featured the Billboard Hot 100 number-one singles \"Crazy in Love\" and \"Baby Boy\".'"
      ]
     },
     "metadata": {
      "tags": []
     },
     "output_type": "display_data"
    },
    {
     "name": "stdout",
     "output_type": "stream",
     "text": [
      "\n",
      "\n"
     ]
    },
    {
     "data": {
      "application/vnd.google.colaboratory.intrinsic+json": {
       "type": "string"
      },
      "text/plain": [
       "'When did Beyonce start becoming popular?'"
      ]
     },
     "metadata": {
      "tags": []
     },
     "output_type": "display_data"
    },
    {
     "name": "stdout",
     "output_type": "stream",
     "text": [
      "\n",
      "\n"
     ]
    },
    {
     "data": {
      "text/plain": [
       "{'answer_start': 269, 'text': 'in the late 1990s'}"
      ]
     },
     "metadata": {
      "tags": []
     },
     "output_type": "display_data"
    },
    {
     "name": "stdout",
     "output_type": "stream",
     "text": [
      "\n",
      "\n",
      "============================== Val Dataset =======================================\n",
      "\n",
      "Contexts length: 20302\n",
      "Questions: 20302\n",
      "Answers length: 20302\n",
      "\n",
      "\n"
     ]
    },
    {
     "data": {
      "application/vnd.google.colaboratory.intrinsic+json": {
       "type": "string"
      },
      "text/plain": [
       "'The Normans (Norman: Nourmands; French: Normands; Latin: Normanni) were the people who in the 10th and 11th centuries gave their name to Normandy, a region in France. They were descended from Norse (\"Norman\" comes from \"Norseman\") raiders and pirates from Denmark, Iceland and Norway who, under their leader Rollo, agreed to swear fealty to King Charles III of West Francia. Through generations of assimilation and mixing with the native Frankish and Roman-Gaulish populations, their descendants would gradually merge with the Carolingian-based cultures of West Francia. The distinct cultural and ethnic identity of the Normans emerged initially in the first half of the 10th century, and it continued to evolve over the succeeding centuries.'"
      ]
     },
     "metadata": {
      "tags": []
     },
     "output_type": "display_data"
    },
    {
     "name": "stdout",
     "output_type": "stream",
     "text": [
      "\n",
      "\n"
     ]
    },
    {
     "data": {
      "application/vnd.google.colaboratory.intrinsic+json": {
       "type": "string"
      },
      "text/plain": [
       "'In what country is Normandy located?'"
      ]
     },
     "metadata": {
      "tags": []
     },
     "output_type": "display_data"
    },
    {
     "name": "stdout",
     "output_type": "stream",
     "text": [
      "\n",
      "\n"
     ]
    },
    {
     "data": {
      "text/plain": [
       "{'answer_start': 159, 'text': 'France'}"
      ]
     },
     "metadata": {
      "tags": []
     },
     "output_type": "display_data"
    },
    {
     "name": "stdout",
     "output_type": "stream",
     "text": [
      "\n",
      "\n"
     ]
    }
   ],
   "source": [
    "def test_print(contexts,questions,answers):\n",
    "  print(\"Contexts length:\",len(contexts))\n",
    "  print(\"Questions:\",len(questions))\n",
    "  print(\"Answers length:\",len(answers))\n",
    "\n",
    "  print(\"\\n\")\n",
    "  display(contexts[0])  \n",
    "  print(\"\\n\")\n",
    "  display(questions[0])\n",
    "  print(\"\\n\")\n",
    "  display(answers[0])\n",
    "  print(\"\\n\")\n",
    "\n",
    "print(\"============================== Train Dataset ======================================\\n\")\n",
    "test_print(train_contexts,train_questions,train_answers)\n",
    "print(\"============================== Val Dataset =======================================\\n\")\n",
    "test_print(val_contexts,val_questions,val_answers)"
   ]
  },
  {
   "cell_type": "markdown",
   "metadata": {
    "id": "zgNjqt5709bD"
   },
   "source": [
    "### Find the character position that answer of each question ends and store it "
   ]
  },
  {
   "cell_type": "code",
   "execution_count": null,
   "metadata": {
    "id": "p_Cvq0jow0S8"
   },
   "outputs": [],
   "source": [
    "def add_end_idx(answers, contexts):\n",
    "  \n",
    "  # Loop through answers and contexts\n",
    "  for answer, context in zip(answers, contexts):\n",
    "    \n",
    "    # Get the appropriate answer\n",
    "    gold_text = answer['text']\n",
    "    # Get position, where answer starts\n",
    "    start_idx = answer['answer_start']\n",
    "    # Calculate position in which answer ends\n",
    "    end_idx = start_idx + len(gold_text)\n",
    "\n",
    "    # Sometimes squad answers are off by a character or two – fix this\n",
    "    if context[start_idx:end_idx] == gold_text:\n",
    "      answer['answer_end'] = end_idx\n",
    "    # When the gold label is off by one character (shifted by 1 position right, so solve it)\n",
    "    elif context[start_idx-1:end_idx-1] == gold_text:\n",
    "      answer['answer_start'] = start_idx - 1\n",
    "      answer['answer_end'] = end_idx - 1     \n",
    "    # When the gold label is off by two characters (shifted by 2 positions right, so solve it)\n",
    "    elif context[start_idx-2:end_idx-2] == gold_text:\n",
    "      answer['answer_start'] = start_idx - 2\n",
    "      answer['answer_end'] = end_idx - 2     \n",
    "\n",
    "add_end_idx(train_answers, train_contexts)\n",
    "add_end_idx(val_answers, val_contexts)"
   ]
  },
  {
   "cell_type": "markdown",
   "metadata": {
    "id": "LIGMvo0S1NKm"
   },
   "source": [
    "### Tokenization of pairs context/questions\n"
   ]
  },
  {
   "cell_type": "code",
   "execution_count": null,
   "metadata": {
    "colab": {
     "base_uri": "https://localhost:8080/",
     "height": 116,
     "referenced_widgets": [
      "59a287b8c4894c3c9578bf67bb198d7c",
      "cc7017c7ba4745bfb38a513e2bf7a349",
      "2e624371e0ae4161b857ede5bcf80629",
      "6205705a74314fb78bf437540d9ab8a6",
      "f2cd4c60916741d1acae231240b14c24",
      "8b078858aab748a4980e6c52896a1e3c",
      "7303ceb8e3ae41d79ce0f867ebcf3781",
      "47e4bc11a51d4c65a825524f16e77bfd",
      "d6b549c84d114c92909a5a4eec1bdc61",
      "f640c74549b147d4b111ef728cf524b4",
      "3b4d2dd5c017409385e317f558138b2c",
      "f8123fc80505428387f3bbf7b2c9382f",
      "67f2970f77784598a1d4435ae2d709df",
      "07a064d389244bd2b68cbd5cd72c2b19",
      "0f4031d6a8164885b745ae1484cd1f5b",
      "47078065b7044cacb270200be7786d36"
     ]
    },
    "id": "KzxUPiam0nlG",
    "outputId": "315c47c4-dbe9-42a4-abb0-5f613be611a8"
   },
   "outputs": [
    {
     "data": {
      "application/vnd.jupyter.widget-view+json": {
       "model_id": "59a287b8c4894c3c9578bf67bb198d7c",
       "version_major": 2,
       "version_minor": 0
      },
      "text/plain": [
       "HBox(children=(FloatProgress(value=0.0, description='Downloading', max=231508.0, style=ProgressStyle(descripti…"
      ]
     },
     "metadata": {
      "tags": []
     },
     "output_type": "display_data"
    },
    {
     "name": "stdout",
     "output_type": "stream",
     "text": [
      "\n"
     ]
    },
    {
     "data": {
      "application/vnd.jupyter.widget-view+json": {
       "model_id": "d6b549c84d114c92909a5a4eec1bdc61",
       "version_major": 2,
       "version_minor": 0
      },
      "text/plain": [
       "HBox(children=(FloatProgress(value=0.0, description='Downloading', max=466062.0, style=ProgressStyle(descripti…"
      ]
     },
     "metadata": {
      "tags": []
     },
     "output_type": "display_data"
    },
    {
     "name": "stdout",
     "output_type": "stream",
     "text": [
      "\n"
     ]
    }
   ],
   "source": [
    "tokenizer = BertTokenizerFast.from_pretrained('bert-base-uncased')\n",
    "# tokenizer = AutoTokenizer.from_pretrained('bert-base-uncased')\n",
    "\n",
    "train_encodings = tokenizer(train_contexts, train_questions, truncation=True, padding=True)\n",
    "val_encodings = tokenizer(val_contexts, val_questions, truncation=True, padding=True)"
   ]
  },
  {
   "cell_type": "markdown",
   "metadata": {
    "id": "yn1rV-fxl4DJ"
   },
   "source": [
    "``` \n",
    "Note that we experimented with both tokenizers (AutoTokenizer and BertTokenizerFast). As we discovered AutoTokenizer is absolutely \n",
    "the same with BertTokenizer, but finally we decided that BertTokenizerFast is the Tokenizer we need, and that due to the fact \n",
    "that, it offers a built in method called 'char_to_token', which we are going to use it right after.\n",
    "```"
   ]
  },
  {
   "cell_type": "markdown",
   "metadata": {
    "id": "IBCE1qfU6UKu"
   },
   "source": [
    "### Convert charachter start/end positions to token start/end positions. \n",
    "### Note that we can use function char_to_token, cause we used BertTokenizerFast!\n",
    "\n"
   ]
  },
  {
   "cell_type": "code",
   "execution_count": null,
   "metadata": {
    "id": "mKjiUrNF6eFy"
   },
   "outputs": [],
   "source": [
    "def add_token_positions(encodings, answers):\n",
    "  \n",
    "  # Declare empty lists\n",
    "  start_positions = []\n",
    "  end_positions = []\n",
    "\n",
    "  for i in range(len(answers)):\n",
    "    \n",
    "    # Convert character with which answers starts/ends to token and store it to start_positions/end_positions list\n",
    "    start_positions.append(encodings.char_to_token(i, answers[i]['answer_start']))\n",
    "    end_positions.append(encodings.char_to_token(i, answers[i]['answer_end']))\n",
    "\n",
    "    # If start position is None, the answer passage has been truncated\n",
    "    if start_positions[-1] is None:\n",
    "      start_positions[-1] = tokenizer.model_max_length\n",
    "      \n",
    "    # Here we have some examples of our dataset in which the appropriate answer is at the end of context and has came out of range.\n",
    "    # For example if length of one context is 460 then the last character's position is 459 (zero indexing), but answer end position \n",
    "    # which is stored is 460, so char_to_token returns None, cause it is out of range. We must subtract one, in order to fix this problem.   \n",
    "    # If end position is None, the 'char_to_token' function points to the space before the correct token - > add - 1\n",
    "    if end_positions[-1] is None:\n",
    "      end_positions[-1] = encodings.char_to_token(i, answers[i]['answer_end'] - 1)\n",
    "      # If end position is still None, then we just drop this sample (approximately 2-3 examples -exceptions- are gonna pass this)\n",
    "      if end_positions[-1] is None:\n",
    "        end_positions[-1] = tokenizer.model_max_length\n",
    "σ\n",
    "    # If everything is fine no printing gonna take place (clear up all None values, cause we'll have problem with model's training)\n",
    "    if end_positions[-1] is None:\n",
    "      print(i,end_positions[-1],answers[i]['answer_end'])\n",
    "\n",
    "  # At the end of whole process update encodings with start and end positions\n",
    "  encodings.update({'start_positions': start_positions, 'end_positions': end_positions})\n",
    "\n",
    "add_token_positions(train_encodings, train_answers)\n",
    "add_token_positions(val_encodings, val_answers)"
   ]
  },
  {
   "cell_type": "markdown",
   "metadata": {
    "id": "lLy2c1WsFlb4"
   },
   "source": [
    "### Create custom SquadDataset class for our train and validation dataset"
   ]
  },
  {
   "cell_type": "code",
   "execution_count": null,
   "metadata": {
    "id": "dzC05VSR6fM_"
   },
   "outputs": [],
   "source": [
    "class SquadDataset(torch.utils.data.Dataset):\n",
    "  def __init__(self, encodings):\n",
    "    self.encodings = encodings\n",
    "\n",
    "  def __getitem__(self, idx):\n",
    "    return {key: torch.tensor(val[idx]) for key, val in self.encodings.items()}\n",
    "\n",
    "  def __len__(self):\n",
    "    return len(self.encodings.input_ids)\n",
    "\n",
    "# Use custom class SquadDataset (inherits from torch.utils.data.Dataset) in order to convert encodings to datasets\n",
    "train_dataset = SquadDataset(train_encodings)\n",
    "val_dataset = SquadDataset(val_encodings)\n",
    "\n",
    "# Use from torch library DataLoader to make train and validation process easier for us (as we'll have ready batches)\n",
    "train_loader = DataLoader(train_dataset, batch_size=8, shuffle=True)\n",
    "val_loader = DataLoader(val_dataset, batch_size=8, shuffle=True)"
   ]
  },
  {
   "cell_type": "markdown",
   "metadata": {
    "id": "fZrixEG9pncB"
   },
   "source": [
    "### Official evaluation script for SQuAD version 2.0.\n"
   ]
  },
  {
   "cell_type": "code",
   "execution_count": null,
   "metadata": {
    "id": "ugF9lRDJpm_a"
   },
   "outputs": [],
   "source": [
    "# \"\"\"Official evaluation script for SQuAD version 2.0.\n",
    "\n",
    "# In addition to basic functionality, we also compute additional statistics and\n",
    "# plot precision-recall curves if an additional na_prob.json file is provided.\n",
    "# This file is expected to map questi4on ID's to the model's predicted probability\n",
    "# that a question is unanswerable.\n",
    "# \"\"\"\n",
    "# import argparse\n",
    "# import collections\n",
    "# import json\n",
    "# import numpy as np\n",
    "# import os\n",
    "# import re\n",
    "# import string\n",
    "# import sys\n",
    "\n",
    "# OPTS = None\n",
    "\n",
    "# def parse_args():\n",
    "#   parser = argparse.ArgumentParser('Official evaluation script for SQuAD version 2.0.')\n",
    "#   parser.add_argument('data_file', metavar='data.json', help='Input data JSON file.')\n",
    "#   parser.add_argument('pred_file', metavar='pred.json', help='Model predictions.')\n",
    "#   parser.add_argument('--out-file', '-o', metavar='eval.json',\n",
    "#                       help='Write accuracy metrics to file (default is stdout).')\n",
    "#   parser.add_argument('--na-prob-file', '-n', metavar='na_prob.json',\n",
    "#                       help='Model estimates of probability of no answer.')\n",
    "#   parser.add_argument('--na-prob-thresh', '-t', type=float, default=1.0,\n",
    "#                       help='Predict \"\" if no-answer probability exceeds this (default = 1.0).')\n",
    "#   parser.add_argument('--out-image-dir', '-p', metavar='out_images', default=None,\n",
    "#                       help='Save precision-recall curves to directory.')\n",
    "#   parser.add_argument('--verbose', '-v', action='store_true')\n",
    "#   if len(sys.argv) == 1:\n",
    "#     parser.print_help()\n",
    "#     sys.exit(1)\n",
    "#   return parser.parse_args()\n",
    "\n",
    "# def make_qid_to_has_ans(dataset):\n",
    "#   qid_to_has_ans = {}\n",
    "#   for article in dataset:\n",
    "#     for p in article['paragraphs']:\n",
    "#       for qa in p['qas']:\n",
    "#         qid_to_has_ans[qa['id']] = bool(qa['answers'])\n",
    "#   return qid_to_has_ans\n",
    "\n",
    "# def normalize_answer(s):\n",
    "#   \"\"\"Lower text and remove punctuation, articles and extra whitespace.\"\"\"\n",
    "#   def remove_articles(text):\n",
    "#     regex = re.compile(r'\\b(a|an|the)\\b', re.UNICODE)\n",
    "#     return re.sub(regex, ' ', text)\n",
    "#   def white_space_fix(text):\n",
    "#     return ' '.join(text.split())\n",
    "#   def remove_punc(text):\n",
    "#     exclude = set(string.punctuation)\n",
    "#     return ''.join(ch for ch in text if ch not in exclude)\n",
    "#   def lower(text):\n",
    "#     return text.lower()\n",
    "#   return white_space_fix(remove_articles(remove_punc(lower(s))))\n",
    "\n",
    "# def get_tokens(s):\n",
    "#   if not s: return []\n",
    "#   return normalize_answer(s).split()\n",
    "\n",
    "# def compute_exact(a_gold, a_pred):\n",
    "#   return int(normalize_answer(a_gold) == normalize_answer(a_pred))\n",
    "\n",
    "# def compute_f1(a_gold, a_pred):\n",
    "#   gold_toks = get_tokens(a_gold)\n",
    "#   pred_toks = get_tokens(a_pred)\n",
    "#   common = collections.Counter(gold_toks) & collections.Counter(pred_toks)\n",
    "#   num_same = sum(common.values())\n",
    "#   if len(gold_toks) == 0 or len(pred_toks) == 0:\n",
    "#     # If either is no-answer, then F1 is 1 if they agree, 0 otherwise\n",
    "#     return int(gold_toks == pred_toks)\n",
    "#   if num_same == 0:\n",
    "#     return 0\n",
    "#   precision = 1.0 * num_same / len(pred_toks)\n",
    "#   recall = 1.0 * num_same / len(gold_toks)\n",
    "#   f1 = (2 * precision * recall) / (precision + recall)\n",
    "#   return f1\n",
    "\n",
    "# def get_raw_scores(dataset, preds):\n",
    "#   exact_scores = {}\n",
    "#   f1_scores = {}\n",
    "#   for article in dataset:\n",
    "#     for p in article['paragraphs']:\n",
    "#       for qa in p['qas']:\n",
    "#         qid = qa['id']\n",
    "#         gold_answers = [a['text'] for a in qa['answers']\n",
    "#                         if normalize_answer(a['text'])]\n",
    "#         if not gold_answers:\n",
    "#           # For unanswerable questions, only correct answer is empty string\n",
    "#           gold_answers = ['']\n",
    "#         if qid not in preds:\n",
    "#           print('Missing prediction for %s' % qid)\n",
    "#           continue\n",
    "#         a_pred = preds[qid]\n",
    "#         # Take max over all gold answers\n",
    "#         exact_scores[qid] = max(compute_exact(a, a_pred) for a in gold_answers)\n",
    "#         f1_scores[qid] = max(compute_f1(a, a_pred) for a in gold_answers)\n",
    "#   return exact_scores, f1_scores\n",
    "\n",
    "# def apply_no_ans_threshold(scores, na_probs, qid_to_has_ans, na_prob_thresh):\n",
    "#   new_scores = {}\n",
    "#   for qid, s in scores.items():\n",
    "#     pred_na = na_probs[qid] > na_prob_thresh\n",
    "#     if pred_na:\n",
    "#       new_scores[qid] = float(not qid_to_has_ans[qid])\n",
    "#     else:\n",
    "#       new_scores[qid] = s\n",
    "#   return new_scores\n",
    "\n",
    "# def make_eval_dict(exact_scores, f1_scores, qid_list=None):\n",
    "#   if not qid_list:\n",
    "#     total = len(exact_scores)\n",
    "#     return collections.OrderedDict([\n",
    "#         ('exact', 100.0 * sum(exact_scores.values()) / total),\n",
    "#         ('f1', 100.0 * sum(f1_scores.values()) / total),\n",
    "#         ('total', total),\n",
    "#     ])\n",
    "#   else:\n",
    "#     total = len(qid_list)\n",
    "#     return collections.OrderedDict([\n",
    "#         ('exact', 100.0 * sum(exact_scores[k] for k in qid_list) / total),\n",
    "#         ('f1', 100.0 * sum(f1_scores[k] for k in qid_list) / total),\n",
    "#         ('total', total),\n",
    "#     ])\n",
    "\n",
    "# def merge_eval(main_eval, new_eval, prefix):\n",
    "#   for k in new_eval:\n",
    "#     main_eval['%s_%s' % (prefix, k)] = new_eval[k]\n",
    "\n",
    "# def plot_pr_curve(precisions, recalls, out_image, title):\n",
    "#   plt.step(recalls, precisions, color='b', alpha=0.2, where='post')\n",
    "#   plt.fill_between(recalls, precisions, step='post', alpha=0.2, color='b')\n",
    "#   plt.xlabel('Recall')\n",
    "#   plt.ylabel('Precision')\n",
    "#   plt.xlim([0.0, 1.05])\n",
    "#   plt.ylim([0.0, 1.05])\n",
    "#   plt.title(title)\n",
    "#   plt.savefig(out_image)\n",
    "#   plt.clf()\n",
    "\n",
    "# def make_precision_recall_eval(scores, na_probs, num_true_pos, qid_to_has_ans,\n",
    "#                                out_image=None, title=None):\n",
    "#   qid_list = sorted(na_probs, key=lambda k: na_probs[k])\n",
    "#   true_pos = 0.0\n",
    "#   cur_p = 1.0\n",
    "#   cur_r = 0.0\n",
    "#   precisions = [1.0]\n",
    "#   recalls = [0.0]\n",
    "#   avg_prec = 0.0\n",
    "#   for i, qid in enumerate(qid_list):\n",
    "#     if qid_to_has_ans[qid]:\n",
    "#       true_pos += scores[qid]\n",
    "#     cur_p = true_pos / float(i+1)\n",
    "#     cur_r = true_pos / float(num_true_pos)\n",
    "#     if i == len(qid_list) - 1 or na_probs[qid] != na_probs[qid_list[i+1]]:\n",
    "#       # i.e., if we can put a threshold after this point\n",
    "#       avg_prec += cur_p * (cur_r - recalls[-1])\n",
    "#       precisions.append(cur_p)\n",
    "#       recalls.append(cur_r)\n",
    "#   if out_image:\n",
    "#     plot_pr_curve(precisions, recalls, out_image, title)\n",
    "#   return {'ap': 100.0 * avg_prec}\n",
    "\n",
    "# def run_precision_recall_analysis(main_eval, exact_raw, f1_raw, na_probs, \n",
    "#                                   qid_to_has_ans, out_image_dir):\n",
    "#   if out_image_dir and not os.path.exists(out_image_dir):\n",
    "#     os.makedirs(out_image_dir)\n",
    "#   num_true_pos = sum(1 for v in qid_to_has_ans.values() if v)\n",
    "#   if num_true_pos == 0:\n",
    "#     return\n",
    "#   pr_exact = make_precision_recall_eval(\n",
    "#       exact_raw, na_probs, num_true_pos, qid_to_has_ans,\n",
    "#       out_image=os.path.join(out_image_dir, 'pr_exact.png'),\n",
    "#       title='Precision-Recall curve for Exact Match score')\n",
    "#   pr_f1 = make_precision_recall_eval(\n",
    "#       f1_raw, na_probs, num_true_pos, qid_to_has_ans,\n",
    "#       out_image=os.path.join(out_image_dir, 'pr_f1.png'),\n",
    "#       title='Precision-Recall curve for F1 score')\n",
    "#   oracle_scores = {k: float(v) for k, v in qid_to_has_ans.items()}\n",
    "#   pr_oracle = make_precision_recall_eval(\n",
    "#       oracle_scores, na_probs, num_true_pos, qid_to_has_ans,\n",
    "#       out_image=os.path.join(out_image_dir, 'pr_oracle.png'),\n",
    "#       title='Oracle Precision-Recall curve (binary task of HasAns vs. NoAns)')\n",
    "#   merge_eval(main_eval, pr_exact, 'pr_exact')\n",
    "#   merge_eval(main_eval, pr_f1, 'pr_f1')\n",
    "#   merge_eval(main_eval, pr_oracle, 'pr_oracle')\n",
    "\n",
    "# def histogram_na_prob(na_probs, qid_list, image_dir, name):\n",
    "#   if not qid_list:\n",
    "#     return\n",
    "#   x = [na_probs[k] for k in qid_list]\n",
    "#   weights = np.ones_like(x) / float(len(x))\n",
    "#   plt.hist(x, weights=weights, bins=20, range=(0.0, 1.0))\n",
    "#   plt.xlabel('Model probability of no-answer')\n",
    "#   plt.ylabel('Proportion of dataset')\n",
    "#   plt.title('Histogram of no-answer probability: %s' % name)\n",
    "#   plt.savefig(os.path.join(image_dir, 'na_prob_hist_%s.png' % name))\n",
    "#   plt.clf()\n",
    "\n",
    "# def find_best_thresh(preds, scores, na_probs, qid_to_has_ans):\n",
    "#   num_no_ans = sum(1 for k in qid_to_has_ans if not qid_to_has_ans[k])\n",
    "#   cur_score = num_no_ans\n",
    "#   best_score = cur_score\n",
    "#   best_thresh = 0.0\n",
    "#   qid_list = sorted(na_probs, key=lambda k: na_probs[k])\n",
    "#   for i, qid in enumerate(qid_list):\n",
    "#     if qid not in scores: continue\n",
    "#     if qid_to_has_ans[qid]:\n",
    "#       diff = scores[qid]\n",
    "#     else:\n",
    "#       if preds[qid]:\n",
    "#         diff = -1\n",
    "#       else:\n",
    "#         diff = 0\n",
    "#     cur_score += diff\n",
    "#     if cur_score > best_score:\n",
    "#       best_score = cur_score\n",
    "#       best_thresh = na_probs[qid]\n",
    "#   return 100.0 * best_score / len(scores), best_thresh\n",
    "\n",
    "# def find_all_best_thresh(main_eval, preds, exact_raw, f1_raw, na_probs, qid_to_has_ans):\n",
    "#   best_exact, exact_thresh = find_best_thresh(preds, exact_raw, na_probs, qid_to_has_ans)\n",
    "#   best_f1, f1_thresh = find_best_thresh(preds, f1_raw, na_probs, qid_to_has_ans)\n",
    "#   main_eval['best_exact'] = best_exact\n",
    "#   main_eval['best_exact_thresh'] = exact_thresh\n",
    "#   main_eval['best_f1'] = best_f1\n",
    "#   main_eval['best_f1_thresh'] = f1_thresh\n",
    "\n",
    "# def main():\n",
    "#   with open(OPTS.data_file) as f:\n",
    "#     dataset_json = json.load(f)\n",
    "#     dataset = dataset_json['data']\n",
    "#   with open(OPTS.pred_file) as f:\n",
    "#     preds = json.load(f)\n",
    "#   if OPTS.na_prob_file:\n",
    "#     with open(OPTS.na_prob_file) as f:\n",
    "#       na_probs = json.load(f)\n",
    "#   else:\n",
    "#     na_probs = {k: 0.0 for k in preds}\n",
    "#   qid_to_has_ans = make_qid_to_has_ans(dataset)  # maps qid to True/False\n",
    "#   has_ans_qids = [k for k, v in qid_to_has_ans.items() if v]\n",
    "#   no_ans_qids = [k for k, v in qid_to_has_ans.items() if not v]\n",
    "#   exact_raw, f1_raw = get_raw_scores(dataset, preds)\n",
    "#   exact_thresh = apply_no_ans_threshold(exact_raw, na_probs, qid_to_has_ans,\n",
    "#                                         OPTS.na_prob_thresh)\n",
    "#   f1_thresh = apply_no_ans_threshold(f1_raw, na_probs, qid_to_has_ans,\n",
    "#                                      OPTS.na_prob_thresh)\n",
    "#   out_eval = make_eval_dict(exact_thresh, f1_thresh)\n",
    "#   if has_ans_qids:\n",
    "#     has_ans_eval = make_eval_dict(exact_thresh, f1_thresh, qid_list=has_ans_qids)\n",
    "#     merge_eval(out_eval, has_ans_eval, 'HasAns')\n",
    "#   if no_ans_qids:\n",
    "#     no_ans_eval = make_eval_dict(exact_thresh, f1_thresh, qid_list=no_ans_qids)\n",
    "#     merge_eval(out_eval, no_ans_eval, 'NoAns')\n",
    "#   if OPTS.na_prob_file:\n",
    "#     find_all_best_thresh(out_eval, preds, exact_raw, f1_raw, na_probs, qid_to_has_ans)\n",
    "#   if OPTS.na_prob_file and OPTS.out_image_dir:\n",
    "#     run_precision_recall_analysis(out_eval, exact_raw, f1_raw, na_probs, \n",
    "#                                   qid_to_has_ans, OPTS.out_image_dir)\n",
    "#     histogram_na_prob(na_probs, has_ans_qids, OPTS.out_image_dir, 'hasAns')\n",
    "#     histogram_na_prob(na_probs, no_ans_qids, OPTS.out_image_dir, 'noAns')\n",
    "#   if OPTS.out_file:\n",
    "#     with open(OPTS.out_file, 'w') as f:\n",
    "#       json.dump(out_eval, f)\n",
    "#   else:\n",
    "#     print(json.dumps(out_eval, indent=2))\n",
    "\n",
    "# # if __name__ == '__main__':\n",
    "# #   OPTS = parse_args()\n",
    "# #   if OPTS.out_image_dir:\n",
    "# #     import matplotlib\n",
    "# #     matplotlib.use('Agg')\n",
    "# #     import matplotlib.pyplot as plt \n",
    "# #   main()"
   ]
  },
  {
   "cell_type": "markdown",
   "metadata": {
    "id": "fGyqtbW8Fxek"
   },
   "source": [
    "### Define optimizer and instatiate or load BERT model"
   ]
  },
  {
   "cell_type": "code",
   "execution_count": null,
   "metadata": {
    "colab": {
     "base_uri": "https://localhost:8080/",
     "height": 275,
     "referenced_widgets": [
      "c3e00dcf75fe4f76b9b1fb34d9da553f",
      "c72edf31c4364863ad502391c2d0dcc2",
      "2ba21dab23a54a8da0a1c215f1c91952",
      "1311aa15be1f4f11ab8dc7c7c1d0091a",
      "ecda59a88d574c7f92ab13a84fb14b7f",
      "27ec7a358d794023b70888a9f8038c75",
      "d0d422d882b7402d8f7afde31651a076",
      "a5a136f15cab4e05865805b250d7befd",
      "5350ab92ddf1484ebd11ce245b406313",
      "05dcf370cb084f37bb58856180bd9adb",
      "f81b16e932d248bcb1b644b85c735162",
      "1473b1bf302d421dbe05906bb8f777cb",
      "6290657e145949c3b119d6b3ddaa7889",
      "6a0b047b3a964112992cf27853ad5c4d",
      "42e1e73d20e045fd86d04744b0904788",
      "1cb8e8f2959f44fa99f341bde28dbbc7"
     ]
    },
    "id": "ii4DB3WVFw5P",
    "outputId": "3ba2323f-fbea-4fb9-829a-d261a46df2c4"
   },
   "outputs": [
    {
     "name": "stdout",
     "output_type": "stream",
     "text": [
      ">If this is the first time and you want to retrieve BERT model then insert 0.\n",
      ">If you want to load trained model give me the last epoch of your training.\n",
      "0\n"
     ]
    },
    {
     "data": {
      "application/vnd.jupyter.widget-view+json": {
       "model_id": "c3e00dcf75fe4f76b9b1fb34d9da553f",
       "version_major": 2,
       "version_minor": 0
      },
      "text/plain": [
       "HBox(children=(FloatProgress(value=0.0, description='Downloading', max=433.0, style=ProgressStyle(description_…"
      ]
     },
     "metadata": {
      "tags": []
     },
     "output_type": "display_data"
    },
    {
     "name": "stdout",
     "output_type": "stream",
     "text": [
      "\n"
     ]
    },
    {
     "data": {
      "application/vnd.jupyter.widget-view+json": {
       "model_id": "5350ab92ddf1484ebd11ce245b406313",
       "version_major": 2,
       "version_minor": 0
      },
      "text/plain": [
       "HBox(children=(FloatProgress(value=0.0, description='Downloading', max=440473133.0, style=ProgressStyle(descri…"
      ]
     },
     "metadata": {
      "tags": []
     },
     "output_type": "display_data"
    },
    {
     "name": "stdout",
     "output_type": "stream",
     "text": [
      "\n"
     ]
    },
    {
     "name": "stderr",
     "output_type": "stream",
     "text": [
      "Some weights of the model checkpoint at bert-base-uncased were not used when initializing BertForQuestionAnswering: ['cls.predictions.bias', 'cls.predictions.transform.dense.weight', 'cls.predictions.transform.dense.bias', 'cls.predictions.decoder.weight', 'cls.seq_relationship.weight', 'cls.seq_relationship.bias', 'cls.predictions.transform.LayerNorm.weight', 'cls.predictions.transform.LayerNorm.bias']\n",
      "- This IS expected if you are initializing BertForQuestionAnswering from the checkpoint of a model trained on another task or with another architecture (e.g. initializing a BertForSequenceClassification model from a BertForPreTraining model).\n",
      "- This IS NOT expected if you are initializing BertForQuestionAnswering from the checkpoint of a model that you expect to be exactly identical (initializing a BertForSequenceClassification model from a BertForSequenceClassification model).\n",
      "Some weights of BertForQuestionAnswering were not initialized from the model checkpoint at bert-base-uncased and are newly initialized: ['qa_outputs.weight', 'qa_outputs.bias']\n",
      "You should probably TRAIN this model on a down-stream task to be able to use it for predictions and inference.\n"
     ]
    }
   ],
   "source": [
    "last_old_epoch = int(input(\"\"\">If this is the first time and you want to retrieve BERT model then insert 0.\\n>If you want to load trained model give me the last epoch of your training.\\n\"\"\")) \n",
    "if last_old_epoch==0:\n",
    "  # New model, first time obtained\n",
    "  model = BertForQuestionAnswering.from_pretrained('bert-base-uncased').to(device)\n",
    "else:\n",
    "  # Load model that we fine tuned it\n",
    "  model = torch.load(\"/content/drive/MyDrive/bert/bert_\"+str(last_old_epoch))\n",
    "\n",
    "optim = AdamW(model.parameters(), lr=5e-5)\n",
    "\n",
    "epochs = 3"
   ]
  },
  {
   "cell_type": "markdown",
   "metadata": {
    "id": "ojyZ4u7xap0H"
   },
   "source": [
    "> In case of BERT's instation... note that these warnings are more than expected, cause hugging face library warns us that without fine tuning our model we'll get bad results (awful performance...). So let's try to train our model!"
   ]
  },
  {
   "cell_type": "markdown",
   "metadata": {
    "id": "vszq-7daoG0V"
   },
   "source": [
    "### Implementation of functions train_model and eval_model"
   ]
  },
  {
   "cell_type": "code",
   "execution_count": null,
   "metadata": {
    "id": "Uso09CgojclT"
   },
   "outputs": [],
   "source": [
    "def train_model(model_,optim_,train_loader_,train_losses_):\n",
    "  \"\"\"\n",
    "  Function for model's training \n",
    "  on training SQuAD dataset 2.0\n",
    "  \"\"\"\n",
    "  model_.train()\n",
    "  \n",
    "  epoch_loss = 0\n",
    "\n",
    "  for batch_idx,batch in enumerate(train_loader_):\n",
    "    batch_time = time.time()\n",
    "    \n",
    "    optim_.zero_grad()\n",
    "\n",
    "    input_ids = batch['input_ids'].to(device)\n",
    "    attention_mask = batch['attention_mask'].to(device)\n",
    "    start_positions = batch['start_positions'].to(device)\n",
    "    end_positions = batch['end_positions'].to(device)\n",
    "    \n",
    "    outputs = model_(input_ids, attention_mask=attention_mask, start_positions=start_positions, end_positions=end_positions)\n",
    "    loss = outputs[0]\n",
    "    loss.backward()\n",
    "    optim_.step()\n",
    "    epoch_loss += loss.item()\n",
    "\n",
    "    if (batch_idx+1) % 1000 == 0:\n",
    "      print('======== Batch {:} / {:} ========'.format(batch_idx+1,len(train_loader_)),\"\\nLoss:\", round(loss.item(),1),\"| Time: %s seconds\" % (round((time.time() - batch_time),1)),\"\\n\")\n",
    "  \n",
    "  epoch_loss /= len(train_loader_)\n",
    "  train_losses_.append(epoch_loss)\n",
    "\n",
    "def eval_model(model_,val_loader_,val_losses_):\n",
    "  \"\"\"\n",
    "  Function for model's evaluation \n",
    "  on validation SQuAD dataset 2.0\n",
    "  \"\"\"\n",
    "  model_.eval()\n",
    "\n",
    "  epoch_loss = 0\n",
    "\n",
    "  for batch_idx,batch in enumerate(val_loader_):\n",
    "    batch_time = time.time()\n",
    "    \n",
    "    with torch.no_grad():\n",
    "\n",
    "      input_ids = batch['input_ids'].to(device)\n",
    "      attention_mask = batch['attention_mask'].to(device)\n",
    "      start_positions = batch['start_positions'].to(device)\n",
    "      end_positions = batch['end_positions'].to(device)\n",
    "      \n",
    "      outputs = model_(input_ids, attention_mask=attention_mask, start_positions=start_positions, end_positions=end_positions)\n",
    "      loss = outputs[0]\n",
    "      epoch_loss += loss.item()\n",
    "\n",
    "    if (batch_idx+1) % 1000 == 0:\n",
    "       print('======== Batch {:} / {:} ========'.format(batch_idx+1,len(val_loader_)),\"\\nLoss:\", round(loss.item(),1),\"| Time: %s seconds\" % (round((time.time() - batch_time),1)),\"\\n\")\n",
    "\n",
    "  epoch_loss /= len(val_loader_)\n",
    "  val_losses_.append(epoch_loss)"
   ]
  },
  {
   "cell_type": "markdown",
   "metadata": {
    "id": "KaWuStTVob5Z"
   },
   "source": [
    "### Model's training"
   ]
  },
  {
   "cell_type": "code",
   "execution_count": null,
   "metadata": {
    "colab": {
     "base_uri": "https://localhost:8080/"
    },
    "id": "mxVgjzLLjep5",
    "outputId": "b06c2aee-3709-4dad-e497-ae0ef2fe807e"
   },
   "outputs": [
    {
     "name": "stdout",
     "output_type": "stream",
     "text": [
      "~~~~~~ Training just started! We'll train in range of 0-3 epochs! ~~~~~~\n",
      "\n",
      "----------- Train Dataset -----------\n",
      "\n",
      "======== Batch 1000 / 10853 ======== \n",
      "Loss: 1.1 | Time: 0.8 seconds \n",
      "\n",
      "======== Batch 2000 / 10853 ======== \n",
      "Loss: 1.3 | Time: 0.8 seconds \n",
      "\n",
      "======== Batch 3000 / 10853 ======== \n",
      "Loss: 0.8 | Time: 0.8 seconds \n",
      "\n",
      "======== Batch 4000 / 10853 ======== \n",
      "Loss: 1.8 | Time: 0.8 seconds \n",
      "\n",
      "======== Batch 5000 / 10853 ======== \n",
      "Loss: 0.9 | Time: 0.8 seconds \n",
      "\n",
      "======== Batch 6000 / 10853 ======== \n",
      "Loss: 1.0 | Time: 0.8 seconds \n",
      "\n",
      "======== Batch 7000 / 10853 ======== \n",
      "Loss: 1.1 | Time: 0.8 seconds \n",
      "\n",
      "======== Batch 8000 / 10853 ======== \n",
      "Loss: 1.0 | Time: 0.8 seconds \n",
      "\n",
      "======== Batch 9000 / 10853 ======== \n",
      "Loss: 1.4 | Time: 0.8 seconds \n",
      "\n",
      "======== Batch 10000 / 10853 ======== \n",
      "Loss: 1.2 | Time: 0.8 seconds \n",
      "\n",
      "-------- Validation Dataset ---------\n",
      "\n",
      "======== Batch 1000 / 2538 ======== \n",
      "Loss: 1.0 | Time: 0.3 seconds \n",
      "\n",
      "======== Batch 2000 / 2538 ======== \n",
      "Loss: 0.7 | Time: 0.3 seconds \n",
      "\n",
      "\n",
      "=================== Epoch 1 / 3 =================== \n",
      "Train Loss: 1.3 | Val Loss: 1.2 | Time: 162.8 minutes \n",
      "\n",
      "\n",
      "----------- Train Dataset -----------\n",
      "\n",
      "======== Batch 1000 / 10853 ======== \n",
      "Loss: 0.6 | Time: 0.8 seconds \n",
      "\n",
      "======== Batch 2000 / 10853 ======== \n",
      "Loss: 0.8 | Time: 0.8 seconds \n",
      "\n",
      "======== Batch 3000 / 10853 ======== \n",
      "Loss: 0.2 | Time: 0.8 seconds \n",
      "\n",
      "======== Batch 4000 / 10853 ======== \n",
      "Loss: 0.9 | Time: 0.8 seconds \n",
      "\n",
      "======== Batch 5000 / 10853 ======== \n",
      "Loss: 0.7 | Time: 0.8 seconds \n",
      "\n",
      "======== Batch 6000 / 10853 ======== \n",
      "Loss: 0.5 | Time: 0.8 seconds \n",
      "\n",
      "======== Batch 7000 / 10853 ======== \n",
      "Loss: 1.0 | Time: 0.8 seconds \n",
      "\n",
      "======== Batch 8000 / 10853 ======== \n",
      "Loss: 0.7 | Time: 0.8 seconds \n",
      "\n",
      "======== Batch 9000 / 10853 ======== \n",
      "Loss: 0.4 | Time: 0.8 seconds \n",
      "\n",
      "======== Batch 10000 / 10853 ======== \n",
      "Loss: 1.4 | Time: 0.8 seconds \n",
      "\n",
      "-------- Validation Dataset ---------\n",
      "\n",
      "======== Batch 1000 / 2538 ======== \n",
      "Loss: 0.4 | Time: 0.3 seconds \n",
      "\n",
      "======== Batch 2000 / 2538 ======== \n",
      "Loss: 1.3 | Time: 0.3 seconds \n",
      "\n",
      "\n",
      "=================== Epoch 2 / 3 =================== \n",
      "Train Loss: 0.9 | Val Loss: 1.2 | Time: 161.9 minutes \n",
      "\n",
      "\n",
      "----------- Train Dataset -----------\n",
      "\n",
      "======== Batch 1000 / 10853 ======== \n",
      "Loss: 0.7 | Time: 0.8 seconds \n",
      "\n",
      "======== Batch 2000 / 10853 ======== \n",
      "Loss: 1.4 | Time: 0.8 seconds \n",
      "\n",
      "======== Batch 3000 / 10853 ======== \n",
      "Loss: 1.1 | Time: 0.8 seconds \n",
      "\n",
      "======== Batch 4000 / 10853 ======== \n",
      "Loss: 0.5 | Time: 0.8 seconds \n",
      "\n",
      "======== Batch 5000 / 10853 ======== \n",
      "Loss: 0.9 | Time: 0.8 seconds \n",
      "\n",
      "======== Batch 6000 / 10853 ======== \n",
      "Loss: 1.1 | Time: 0.8 seconds \n",
      "\n",
      "======== Batch 7000 / 10853 ======== \n",
      "Loss: 0.6 | Time: 0.8 seconds \n",
      "\n",
      "======== Batch 8000 / 10853 ======== \n",
      "Loss: 0.8 | Time: 0.8 seconds \n",
      "\n",
      "======== Batch 9000 / 10853 ======== \n",
      "Loss: 0.4 | Time: 0.8 seconds \n",
      "\n",
      "======== Batch 10000 / 10853 ======== \n",
      "Loss: 1.1 | Time: 0.8 seconds \n",
      "\n",
      "-------- Validation Dataset ---------\n",
      "\n",
      "======== Batch 1000 / 2538 ======== \n",
      "Loss: 1.5 | Time: 0.3 seconds \n",
      "\n",
      "======== Batch 2000 / 2538 ======== \n",
      "Loss: 0.5 | Time: 0.3 seconds \n",
      "\n",
      "\n",
      "=================== Epoch 3 / 3 =================== \n",
      "Train Loss: 0.7 | Val Loss: 1.3 | Time: 162.8 minutes \n",
      "\n",
      "\n",
      "Total training time: 487.5 minutes\n"
     ]
    }
   ],
   "source": [
    "last_new_epoch = last_old_epoch + epochs\n",
    "\n",
    "print(\"~~~~~~ Training just started! We'll train in range of \"+str(last_old_epoch)+\"-\"+str(last_new_epoch)+\" epochs! ~~~~~~\\n\")\n",
    "\n",
    "training_time = time.time()\n",
    "\n",
    "train_losses = []\n",
    "val_losses = []\n",
    "\n",
    "for epoch in range(last_old_epoch,last_new_epoch):\n",
    "  \n",
    "  epoch_time = time.time()\n",
    "\n",
    "  print(\"----------- Train Dataset -----------\\n\")\n",
    "  train_model(model,optim,train_loader,train_losses)\n",
    "\n",
    "  print(\"-------- Validation Dataset ---------\\n\")\n",
    "  eval_model(model,val_loader,val_losses)\n",
    "\n",
    "  # Save model\n",
    "  torch.save(model,\"/content/drive/MyDrive/bert/bert_\"+str(epoch+1))\n",
    "  \n",
    "  # Save train losses\n",
    "  with open('/content/drive/MyDrive/bert/train_losses'+str(epoch+1)+'.pkl', 'wb') as f:\n",
    "    pickle.dump(train_losses,f)\n",
    "\n",
    "  # Save validation losses\n",
    "  with open('/content/drive/MyDrive/bert/val_losses'+str(epoch+1)+'.pkl', 'wb') as f:\n",
    "    pickle.dump(val_losses,f)\n",
    "\n",
    "  # Print each epoch's time and train/val loss \n",
    "  print('\\n=================== Epoch {:} / {:} ==================='.format(epoch+1,last_new_epoch),\n",
    "        \"\\nTrain Loss:\", round(train_losses[-1],1), \"| Val Loss:\", round(val_losses[-1],1),\"| Time: %s minutes\" % (round((time.time() - epoch_time)/60,1)),\"\\n\\n\")\n",
    "\n",
    "print(\"Total training time: %s minutes\" % (round((time.time() - training_time)/60,1)))"
   ]
  },
  {
   "cell_type": "markdown",
   "metadata": {
    "id": "NdZhRRaTbN9K"
   },
   "source": [
    "### Plot train and validation losses vs epochs"
   ]
  },
  {
   "cell_type": "code",
   "execution_count": null,
   "metadata": {
    "colab": {
     "base_uri": "https://localhost:8080/",
     "height": 554
    },
    "id": "eY0DPeEM0WCf",
    "outputId": "21db4b14-4ef4-48f2-867f-d29543e45385"
   },
   "outputs": [
    {
     "data": {
      "image/png": "[encoded data removed]",
      "text/plain": [
       "<Figure size 2160x720 with 1 Axes>"
      ]
     },
     "metadata": {
      "needs_background": "light",
      "tags": []
     },
     "output_type": "display_data"
    }
   ],
   "source": [
    "train_losses_loaded = []\n",
    "\n",
    "for i in range(last_new_epoch):\n",
    "  if (i+1) % epochs == 0:\n",
    "    # Load train losses\n",
    "    with open('/content/drive/MyDrive/bert/train_losses'+str(i+1)+'.pkl', 'rb') as f:\n",
    "      temp_list = pickle.load(f)\n",
    "      for elem in temp_list:\n",
    "        train_losses_loaded.append(elem)\n",
    "\n",
    "val_losses_loaded = []\n",
    "\n",
    "for i in range(last_new_epoch):\n",
    "  if (i+1) % epochs == 0:\n",
    "    # Load val losses\n",
    "    with open('/content/drive/MyDrive/bert/val_losses'+str(i+1)+'.pkl', 'rb') as f:\n",
    "      temp_list = pickle.load(f)\n",
    "      for elem in temp_list:\n",
    "        val_losses_loaded.append(elem)\n",
    "\n",
    "fig,ax = plt.subplots(1,1,figsize=(30,10))\n",
    "\n",
    "early_stopping = 0.35\n",
    "\n",
    "ax.set_title(\"Train and Validation Losses\",size=25)\n",
    "ax.set_ylabel('Loss', fontsize = 20.0) \n",
    "ax.set_xlabel('Epochs', fontsize = 20) \n",
    "_=ax.plot(train_losses_loaded,'-c')\n",
    "_=ax.plot(val_losses_loaded,'-m')\n",
    "_=ax.axvline(x=early_stopping,color='r')\n",
    "_=ax.legend(('Train','Val'),loc='upper right',fontsize='x-large')"
   ]
  },
  {
   "cell_type": "markdown",
   "metadata": {
    "id": "tHzYt4is69xX"
   },
   "source": [
    "> In this notebook we loaded bert-base-uncased model and after studying thoroughly huggingface library, we trained and \n",
    "evaluated in validation set our model gradually! Ignore evaluation script of SQuAD dataset v2, cause we didn't use it!\n",
    "\n",
    "\n",
    "> As we can observe our model starts overfitting before first epoch, very quickly! We tried to reduce overfitting,\n",
    "but something like this was inevitable, because our model (bert base uncased) is too complex and the \n",
    "fact that we feed model with a lot of data increases that phenomenon! As a reminder bert base uncased is too complex, \n",
    "despite the fact that this is the smallest possible bert model, which produces embeddings of size 768.\n",
    "\n",
    "> However validation and train loss are pretty small so we decide to overcome overfitting and train for \n",
    "6 epochs our model! This wasn't so easy, due to the fact that bert model needed much time to train for only \n",
    "one epoch... In addition, we have to overcome time limit usage of Google's CUDA GPU, so we managed to \n",
    "train in packs of 3 epochs each time (approximately 9 hours of training with total usage of GPU). You can observe \n",
    "by yourself our prints above training section. In lectures's theory it suggests us to train our bert model for 3-4 epochs,\n",
    "but we tried to exceed that just cause we were curious about generalization gap, without observing something not expected.\n",
    "\n",
    "> Some possible solutions that didn't solve our overfitting problem and which we tried were: \n",
    "\n",
    "1. Reducing feeding data, from ~90.000 articles we reduced it to 40.000 and even 20.000, but unfortunately \n",
    "this move didn't affect training and validation losses. And obviously with less data, model has trained \n",
    "with few info so model's performance on evaluation notebook wasn't so pretty.\n",
    "\n",
    "2. Experimenting with learning rates from big values,1e-3 to too low values, 1e-6. But, unfortunately,\n",
    "phenomenon of overfitting was still here with slight differences (for example overfitting starts from \n",
    "0.5 epoch instead of 0.3 epoch. Let's just remind that based on our lectures, theory supported that some good values \n",
    "for learning rates are 5e-5,3e-5,2e-5. Our final choice was 5e-5, with which model seems to have the most 'normal' \n",
    "behavior in our learning curves.\n",
    "\n",
    "3. Add dropout layer in the end of bert model, but suprisingly model was confused on evaluation question-answering, \n",
    "so we decided to remove it.\n",
    "\n",
    "4. As we know from theory with small batches of training data, model is gradually learning quicker information,\n",
    "so training loss keeps falling with rapid rhythm. So the first thought we had, was to try increase batch\n",
    "size with a very big number like 512. But...this didn't work, cause after seconds RAM memory ran out,\n",
    "so we tried to reduce to half. And so on, we reached the magic number of batch size=8. So with smallest\n",
    "bert model, which produces embeddings of 764 size, we were forced to use (the greater value) batch size=8.\n",
    "So this is one of the most significant factors, why we couldn't handle overfitting (memory limit usage\n",
    "of Google Colab). Last but not least, in our lectures's theory is suggests that a pretty descent value for batch size is 32,\n",
    "which we unfortunately couldn't experiment.Note that Google Colab provides for Pro Users extended memory and time limits \n",
    "(with GPU/TPU).\n",
    "\n"
   ]
  }
 ],
 "metadata": {
  "accelerator": "GPU",
  "colab": {
   "collapsed_sections": [
    "fZrixEG9pncB"
   ],
   "name": "BertFineTuning_1-3.ipynb",
   "provenance": []
  },
  "kernelspec": {
   "display_name": "Python 3",
   "language": "python",
   "name": "python3"
  },
  "language_info": {
   "codemirror_mode": {
    "name": "ipython",
    "version": 3
   },
   "file_extension": ".py",
   "mimetype": "text/x-python",
   "name": "python",
   "nbconvert_exporter": "python",
   "pygments_lexer": "ipython3",
   "version": "3.7.6"
  },
  "widgets": {
   "application/vnd.jupyter.widget-state+json": {
    "05dcf370cb084f37bb58856180bd9adb": {
     "model_module": "@jupyter-widgets/base",
     "model_name": "LayoutModel",
     "state": {
      "_model_module": "@jupyter-widgets/base",
      "_model_module_version": "1.2.0",
      "_model_name": "LayoutModel",
      "_view_count": null,
      "_view_module": "@jupyter-widgets/base",
      "_view_module_version": "1.2.0",
      "_view_name": "LayoutView",
      "align_content": null,
      "align_items": null,
      "align_self": null,
      "border": null,
      "bottom": null,
      "display": null,
      "flex": null,
      "flex_flow": null,
      "grid_area": null,
      "grid_auto_columns": null,
      "grid_auto_flow": null,
      "grid_auto_rows": null,
      "grid_column": null,
      "grid_gap": null,
      "grid_row": null,
      "grid_template_areas": null,
      "grid_template_columns": null,
      "grid_template_rows": null,
      "height": null,
      "justify_content": null,
      "justify_items": null,
      "left": null,
      "margin": null,
      "max_height": null,
      "max_width": null,
      "min_height": null,
      "min_width": null,
      "object_fit": null,
      "object_position": null,
      "order": null,
      "overflow": null,
      "overflow_x": null,
      "overflow_y": null,
      "padding": null,
      "right": null,
      "top": null,
      "visibility": null,
      "width": null
     }
    },
    "07a064d389244bd2b68cbd5cd72c2b19": {
     "model_module": "@jupyter-widgets/base",
     "model_name": "LayoutModel",
     "state": {
      "_model_module": "@jupyter-widgets/base",
      "_model_module_version": "1.2.0",
      "_model_name": "LayoutModel",
      "_view_count": null,
      "_view_module": "@jupyter-widgets/base",
      "_view_module_version": "1.2.0",
      "_view_name": "LayoutView",
      "align_content": null,
      "align_items": null,
      "align_self": null,
      "border": null,
      "bottom": null,
      "display": null,
      "flex": null,
      "flex_flow": null,
      "grid_area": null,
      "grid_auto_columns": null,
      "grid_auto_flow": null,
      "grid_auto_rows": null,
      "grid_column": null,
      "grid_gap": null,
      "grid_row": null,
      "grid_template_areas": null,
      "grid_template_columns": null,
      "grid_template_rows": null,
      "height": null,
      "justify_content": null,
      "justify_items": null,
      "left": null,
      "margin": null,
      "max_height": null,
      "max_width": null,
      "min_height": null,
      "min_width": null,
      "object_fit": null,
      "object_position": null,
      "order": null,
      "overflow": null,
      "overflow_x": null,
      "overflow_y": null,
      "padding": null,
      "right": null,
      "top": null,
      "visibility": null,
      "width": null
     }
    },
    "0f4031d6a8164885b745ae1484cd1f5b": {
     "model_module": "@jupyter-widgets/controls",
     "model_name": "DescriptionStyleModel",
     "state": {
      "_model_module": "@jupyter-widgets/controls",
      "_model_module_version": "1.5.0",
      "_model_name": "DescriptionStyleModel",
      "_view_count": null,
      "_view_module": "@jupyter-widgets/base",
      "_view_module_version": "1.2.0",
      "_view_name": "StyleView",
      "description_width": ""
     }
    },
    "1311aa15be1f4f11ab8dc7c7c1d0091a": {
     "model_module": "@jupyter-widgets/controls",
     "model_name": "HTMLModel",
     "state": {
      "_dom_classes": [],
      "_model_module": "@jupyter-widgets/controls",
      "_model_module_version": "1.5.0",
      "_model_name": "HTMLModel",
      "_view_count": null,
      "_view_module": "@jupyter-widgets/controls",
      "_view_module_version": "1.5.0",
      "_view_name": "HTMLView",
      "description": "",
      "description_tooltip": null,
      "layout": "IPY_MODEL_a5a136f15cab4e05865805b250d7befd",
      "placeholder": "​",
      "style": "IPY_MODEL_d0d422d882b7402d8f7afde31651a076",
      "value": " 433/433 [00:00&lt;00:00, 4.39kB/s]"
     }
    },
    "1473b1bf302d421dbe05906bb8f777cb": {
     "model_module": "@jupyter-widgets/controls",
     "model_name": "HTMLModel",
     "state": {
      "_dom_classes": [],
      "_model_module": "@jupyter-widgets/controls",
      "_model_module_version": "1.5.0",
      "_model_name": "HTMLModel",
      "_view_count": null,
      "_view_module": "@jupyter-widgets/controls",
      "_view_module_version": "1.5.0",
      "_view_name": "HTMLView",
      "description": "",
      "description_tooltip": null,
      "layout": "IPY_MODEL_1cb8e8f2959f44fa99f341bde28dbbc7",
      "placeholder": "​",
      "style": "IPY_MODEL_42e1e73d20e045fd86d04744b0904788",
      "value": " 440M/440M [02:23&lt;00:00, 3.06MB/s]"
     }
    },
    "1cb8e8f2959f44fa99f341bde28dbbc7": {
     "model_module": "@jupyter-widgets/base",
     "model_name": "LayoutModel",
     "state": {
      "_model_module": "@jupyter-widgets/base",
      "_model_module_version": "1.2.0",
      "_model_name": "LayoutModel",
      "_view_count": null,
      "_view_module": "@jupyter-widgets/base",
      "_view_module_version": "1.2.0",
      "_view_name": "LayoutView",
      "align_content": null,
      "align_items": null,
      "align_self": null,
      "border": null,
      "bottom": null,
      "display": null,
      "flex": null,
      "flex_flow": null,
      "grid_area": null,
      "grid_auto_columns": null,
      "grid_auto_flow": null,
      "grid_auto_rows": null,
      "grid_column": null,
      "grid_gap": null,
      "grid_row": null,
      "grid_template_areas": null,
      "grid_template_columns": null,
      "grid_template_rows": null,
      "height": null,
      "justify_content": null,
      "justify_items": null,
      "left": null,
      "margin": null,
      "max_height": null,
      "max_width": null,
      "min_height": null,
      "min_width": null,
      "object_fit": null,
      "object_position": null,
      "order": null,
      "overflow": null,
      "overflow_x": null,
      "overflow_y": null,
      "padding": null,
      "right": null,
      "top": null,
      "visibility": null,
      "width": null
     }
    },
    "27ec7a358d794023b70888a9f8038c75": {
     "model_module": "@jupyter-widgets/base",
     "model_name": "LayoutModel",
     "state": {
      "_model_module": "@jupyter-widgets/base",
      "_model_module_version": "1.2.0",
      "_model_name": "LayoutModel",
      "_view_count": null,
      "_view_module": "@jupyter-widgets/base",
      "_view_module_version": "1.2.0",
      "_view_name": "LayoutView",
      "align_content": null,
      "align_items": null,
      "align_self": null,
      "border": null,
      "bottom": null,
      "display": null,
      "flex": null,
      "flex_flow": null,
      "grid_area": null,
      "grid_auto_columns": null,
      "grid_auto_flow": null,
      "grid_auto_rows": null,
      "grid_column": null,
      "grid_gap": null,
      "grid_row": null,
      "grid_template_areas": null,
      "grid_template_columns": null,
      "grid_template_rows": null,
      "height": null,
      "justify_content": null,
      "justify_items": null,
      "left": null,
      "margin": null,
      "max_height": null,
      "max_width": null,
      "min_height": null,
      "min_width": null,
      "object_fit": null,
      "object_position": null,
      "order": null,
      "overflow": null,
      "overflow_x": null,
      "overflow_y": null,
      "padding": null,
      "right": null,
      "top": null,
      "visibility": null,
      "width": null
     }
    },
    "2ba21dab23a54a8da0a1c215f1c91952": {
     "model_module": "@jupyter-widgets/controls",
     "model_name": "FloatProgressModel",
     "state": {
      "_dom_classes": [],
      "_model_module": "@jupyter-widgets/controls",
      "_model_module_version": "1.5.0",
      "_model_name": "FloatProgressModel",
      "_view_count": null,
      "_view_module": "@jupyter-widgets/controls",
      "_view_module_version": "1.5.0",
      "_view_name": "ProgressView",
      "bar_style": "success",
      "description": "Downloading: 100%",
      "description_tooltip": null,
      "layout": "IPY_MODEL_27ec7a358d794023b70888a9f8038c75",
      "max": 433,
      "min": 0,
      "orientation": "horizontal",
      "style": "IPY_MODEL_ecda59a88d574c7f92ab13a84fb14b7f",
      "value": 433
     }
    },
    "2e624371e0ae4161b857ede5bcf80629": {
     "model_module": "@jupyter-widgets/controls",
     "model_name": "FloatProgressModel",
     "state": {
      "_dom_classes": [],
      "_model_module": "@jupyter-widgets/controls",
      "_model_module_version": "1.5.0",
      "_model_name": "FloatProgressModel",
      "_view_count": null,
      "_view_module": "@jupyter-widgets/controls",
      "_view_module_version": "1.5.0",
      "_view_name": "ProgressView",
      "bar_style": "success",
      "description": "Downloading: 100%",
      "description_tooltip": null,
      "layout": "IPY_MODEL_8b078858aab748a4980e6c52896a1e3c",
      "max": 231508,
      "min": 0,
      "orientation": "horizontal",
      "style": "IPY_MODEL_f2cd4c60916741d1acae231240b14c24",
      "value": 231508
     }
    },
    "3b4d2dd5c017409385e317f558138b2c": {
     "model_module": "@jupyter-widgets/controls",
     "model_name": "FloatProgressModel",
     "state": {
      "_dom_classes": [],
      "_model_module": "@jupyter-widgets/controls",
      "_model_module_version": "1.5.0",
      "_model_name": "FloatProgressModel",
      "_view_count": null,
      "_view_module": "@jupyter-widgets/controls",
      "_view_module_version": "1.5.0",
      "_view_name": "ProgressView",
      "bar_style": "success",
      "description": "Downloading: 100%",
      "description_tooltip": null,
      "layout": "IPY_MODEL_07a064d389244bd2b68cbd5cd72c2b19",
      "max": 466062,
      "min": 0,
      "orientation": "horizontal",
      "style": "IPY_MODEL_67f2970f77784598a1d4435ae2d709df",
      "value": 466062
     }
    },
    "42e1e73d20e045fd86d04744b0904788": {
     "model_module": "@jupyter-widgets/controls",
     "model_name": "DescriptionStyleModel",
     "state": {
      "_model_module": "@jupyter-widgets/controls",
      "_model_module_version": "1.5.0",
      "_model_name": "DescriptionStyleModel",
      "_view_count": null,
      "_view_module": "@jupyter-widgets/base",
      "_view_module_version": "1.2.0",
      "_view_name": "StyleView",
      "description_width": ""
     }
    },
    "47078065b7044cacb270200be7786d36": {
     "model_module": "@jupyter-widgets/base",
     "model_name": "LayoutModel",
     "state": {
      "_model_module": "@jupyter-widgets/base",
      "_model_module_version": "1.2.0",
      "_model_name": "LayoutModel",
      "_view_count": null,
      "_view_module": "@jupyter-widgets/base",
      "_view_module_version": "1.2.0",
      "_view_name": "LayoutView",
      "align_content": null,
      "align_items": null,
      "align_self": null,
      "border": null,
      "bottom": null,
      "display": null,
      "flex": null,
      "flex_flow": null,
      "grid_area": null,
      "grid_auto_columns": null,
      "grid_auto_flow": null,
      "grid_auto_rows": null,
      "grid_column": null,
      "grid_gap": null,
      "grid_row": null,
      "grid_template_areas": null,
      "grid_template_columns": null,
      "grid_template_rows": null,
      "height": null,
      "justify_content": null,
      "justify_items": null,
      "left": null,
      "margin": null,
      "max_height": null,
      "max_width": null,
      "min_height": null,
      "min_width": null,
      "object_fit": null,
      "object_position": null,
      "order": null,
      "overflow": null,
      "overflow_x": null,
      "overflow_y": null,
      "padding": null,
      "right": null,
      "top": null,
      "visibility": null,
      "width": null
     }
    },
    "47e4bc11a51d4c65a825524f16e77bfd": {
     "model_module": "@jupyter-widgets/base",
     "model_name": "LayoutModel",
     "state": {
      "_model_module": "@jupyter-widgets/base",
      "_model_module_version": "1.2.0",
      "_model_name": "LayoutModel",
      "_view_count": null,
      "_view_module": "@jupyter-widgets/base",
      "_view_module_version": "1.2.0",
      "_view_name": "LayoutView",
      "align_content": null,
      "align_items": null,
      "align_self": null,
      "border": null,
      "bottom": null,
      "display": null,
      "flex": null,
      "flex_flow": null,
      "grid_area": null,
      "grid_auto_columns": null,
      "grid_auto_flow": null,
      "grid_auto_rows": null,
      "grid_column": null,
      "grid_gap": null,
      "grid_row": null,
      "grid_template_areas": null,
      "grid_template_columns": null,
      "grid_template_rows": null,
      "height": null,
      "justify_content": null,
      "justify_items": null,
      "left": null,
      "margin": null,
      "max_height": null,
      "max_width": null,
      "min_height": null,
      "min_width": null,
      "object_fit": null,
      "object_position": null,
      "order": null,
      "overflow": null,
      "overflow_x": null,
      "overflow_y": null,
      "padding": null,
      "right": null,
      "top": null,
      "visibility": null,
      "width": null
     }
    },
    "5350ab92ddf1484ebd11ce245b406313": {
     "model_module": "@jupyter-widgets/controls",
     "model_name": "HBoxModel",
     "state": {
      "_dom_classes": [],
      "_model_module": "@jupyter-widgets/controls",
      "_model_module_version": "1.5.0",
      "_model_name": "HBoxModel",
      "_view_count": null,
      "_view_module": "@jupyter-widgets/controls",
      "_view_module_version": "1.5.0",
      "_view_name": "HBoxView",
      "box_style": "",
      "children": [
       "IPY_MODEL_f81b16e932d248bcb1b644b85c735162",
       "IPY_MODEL_1473b1bf302d421dbe05906bb8f777cb"
      ],
      "layout": "IPY_MODEL_05dcf370cb084f37bb58856180bd9adb"
     }
    },
    "59a287b8c4894c3c9578bf67bb198d7c": {
     "model_module": "@jupyter-widgets/controls",
     "model_name": "HBoxModel",
     "state": {
      "_dom_classes": [],
      "_model_module": "@jupyter-widgets/controls",
      "_model_module_version": "1.5.0",
      "_model_name": "HBoxModel",
      "_view_count": null,
      "_view_module": "@jupyter-widgets/controls",
      "_view_module_version": "1.5.0",
      "_view_name": "HBoxView",
      "box_style": "",
      "children": [
       "IPY_MODEL_2e624371e0ae4161b857ede5bcf80629",
       "IPY_MODEL_6205705a74314fb78bf437540d9ab8a6"
      ],
      "layout": "IPY_MODEL_cc7017c7ba4745bfb38a513e2bf7a349"
     }
    },
    "6205705a74314fb78bf437540d9ab8a6": {
     "model_module": "@jupyter-widgets/controls",
     "model_name": "HTMLModel",
     "state": {
      "_dom_classes": [],
      "_model_module": "@jupyter-widgets/controls",
      "_model_module_version": "1.5.0",
      "_model_name": "HTMLModel",
      "_view_count": null,
      "_view_module": "@jupyter-widgets/controls",
      "_view_module_version": "1.5.0",
      "_view_name": "HTMLView",
      "description": "",
      "description_tooltip": null,
      "layout": "IPY_MODEL_47e4bc11a51d4c65a825524f16e77bfd",
      "placeholder": "​",
      "style": "IPY_MODEL_7303ceb8e3ae41d79ce0f867ebcf3781",
      "value": " 232k/232k [00:00&lt;00:00, 1.41MB/s]"
     }
    },
    "6290657e145949c3b119d6b3ddaa7889": {
     "model_module": "@jupyter-widgets/controls",
     "model_name": "ProgressStyleModel",
     "state": {
      "_model_module": "@jupyter-widgets/controls",
      "_model_module_version": "1.5.0",
      "_model_name": "ProgressStyleModel",
      "_view_count": null,
      "_view_module": "@jupyter-widgets/base",
      "_view_module_version": "1.2.0",
      "_view_name": "StyleView",
      "bar_color": null,
      "description_width": "initial"
     }
    },
    "67f2970f77784598a1d4435ae2d709df": {
     "model_module": "@jupyter-widgets/controls",
     "model_name": "ProgressStyleModel",
     "state": {
      "_model_module": "@jupyter-widgets/controls",
      "_model_module_version": "1.5.0",
      "_model_name": "ProgressStyleModel",
      "_view_count": null,
      "_view_module": "@jupyter-widgets/base",
      "_view_module_version": "1.2.0",
      "_view_name": "StyleView",
      "bar_color": null,
      "description_width": "initial"
     }
    },
    "6a0b047b3a964112992cf27853ad5c4d": {
     "model_module": "@jupyter-widgets/base",
     "model_name": "LayoutModel",
     "state": {
      "_model_module": "@jupyter-widgets/base",
      "_model_module_version": "1.2.0",
      "_model_name": "LayoutModel",
      "_view_count": null,
      "_view_module": "@jupyter-widgets/base",
      "_view_module_version": "1.2.0",
      "_view_name": "LayoutView",
      "align_content": null,
      "align_items": null,
      "align_self": null,
      "border": null,
      "bottom": null,
      "display": null,
      "flex": null,
      "flex_flow": null,
      "grid_area": null,
      "grid_auto_columns": null,
      "grid_auto_flow": null,
      "grid_auto_rows": null,
      "grid_column": null,
      "grid_gap": null,
      "grid_row": null,
      "grid_template_areas": null,
      "grid_template_columns": null,
      "grid_template_rows": null,
      "height": null,
      "justify_content": null,
      "justify_items": null,
      "left": null,
      "margin": null,
      "max_height": null,
      "max_width": null,
      "min_height": null,
      "min_width": null,
      "object_fit": null,
      "object_position": null,
      "order": null,
      "overflow": null,
      "overflow_x": null,
      "overflow_y": null,
      "padding": null,
      "right": null,
      "top": null,
      "visibility": null,
      "width": null
     }
    },
    "7303ceb8e3ae41d79ce0f867ebcf3781": {
     "model_module": "@jupyter-widgets/controls",
     "model_name": "DescriptionStyleModel",
     "state": {
      "_model_module": "@jupyter-widgets/controls",
      "_model_module_version": "1.5.0",
      "_model_name": "DescriptionStyleModel",
      "_view_count": null,
      "_view_module": "@jupyter-widgets/base",
      "_view_module_version": "1.2.0",
      "_view_name": "StyleView",
      "description_width": ""
     }
    },
    "8b078858aab748a4980e6c52896a1e3c": {
     "model_module": "@jupyter-widgets/base",
     "model_name": "LayoutModel",
     "state": {
      "_model_module": "@jupyter-widgets/base",
      "_model_module_version": "1.2.0",
      "_model_name": "LayoutModel",
      "_view_count": null,
      "_view_module": "@jupyter-widgets/base",
      "_view_module_version": "1.2.0",
      "_view_name": "LayoutView",
      "align_content": null,
      "align_items": null,
      "align_self": null,
      "border": null,
      "bottom": null,
      "display": null,
      "flex": null,
      "flex_flow": null,
      "grid_area": null,
      "grid_auto_columns": null,
      "grid_auto_flow": null,
      "grid_auto_rows": null,
      "grid_column": null,
      "grid_gap": null,
      "grid_row": null,
      "grid_template_areas": null,
      "grid_template_columns": null,
      "grid_template_rows": null,
      "height": null,
      "justify_content": null,
      "justify_items": null,
      "left": null,
      "margin": null,
      "max_height": null,
      "max_width": null,
      "min_height": null,
      "min_width": null,
      "object_fit": null,
      "object_position": null,
      "order": null,
      "overflow": null,
      "overflow_x": null,
      "overflow_y": null,
      "padding": null,
      "right": null,
      "top": null,
      "visibility": null,
      "width": null
     }
    },
    "a5a136f15cab4e05865805b250d7befd": {
     "model_module": "@jupyter-widgets/base",
     "model_name": "LayoutModel",
     "state": {
      "_model_module": "@jupyter-widgets/base",
      "_model_module_version": "1.2.0",
      "_model_name": "LayoutModel",
      "_view_count": null,
      "_view_module": "@jupyter-widgets/base",
      "_view_module_version": "1.2.0",
      "_view_name": "LayoutView",
      "align_content": null,
      "align_items": null,
      "align_self": null,
      "border": null,
      "bottom": null,
      "display": null,
      "flex": null,
      "flex_flow": null,
      "grid_area": null,
      "grid_auto_columns": null,
      "grid_auto_flow": null,
      "grid_auto_rows": null,
      "grid_column": null,
      "grid_gap": null,
      "grid_row": null,
      "grid_template_areas": null,
      "grid_template_columns": null,
      "grid_template_rows": null,
      "height": null,
      "justify_content": null,
      "justify_items": null,
      "left": null,
      "margin": null,
      "max_height": null,
      "max_width": null,
      "min_height": null,
      "min_width": null,
      "object_fit": null,
      "object_position": null,
      "order": null,
      "overflow": null,
      "overflow_x": null,
      "overflow_y": null,
      "padding": null,
      "right": null,
      "top": null,
      "visibility": null,
      "width": null
     }
    },
    "c3e00dcf75fe4f76b9b1fb34d9da553f": {
     "model_module": "@jupyter-widgets/controls",
     "model_name": "HBoxModel",
     "state": {
      "_dom_classes": [],
      "_model_module": "@jupyter-widgets/controls",
      "_model_module_version": "1.5.0",
      "_model_name": "HBoxModel",
      "_view_count": null,
      "_view_module": "@jupyter-widgets/controls",
      "_view_module_version": "1.5.0",
      "_view_name": "HBoxView",
      "box_style": "",
      "children": [
       "IPY_MODEL_2ba21dab23a54a8da0a1c215f1c91952",
       "IPY_MODEL_1311aa15be1f4f11ab8dc7c7c1d0091a"
      ],
      "layout": "IPY_MODEL_c72edf31c4364863ad502391c2d0dcc2"
     }
    },
    "c72edf31c4364863ad502391c2d0dcc2": {
     "model_module": "@jupyter-widgets/base",
     "model_name": "LayoutModel",
     "state": {
      "_model_module": "@jupyter-widgets/base",
      "_model_module_version": "1.2.0",
      "_model_name": "LayoutModel",
      "_view_count": null,
      "_view_module": "@jupyter-widgets/base",
      "_view_module_version": "1.2.0",
      "_view_name": "LayoutView",
      "align_content": null,
      "align_items": null,
      "align_self": null,
      "border": null,
      "bottom": null,
      "display": null,
      "flex": null,
      "flex_flow": null,
      "grid_area": null,
      "grid_auto_columns": null,
      "grid_auto_flow": null,
      "grid_auto_rows": null,
      "grid_column": null,
      "grid_gap": null,
      "grid_row": null,
      "grid_template_areas": null,
      "grid_template_columns": null,
      "grid_template_rows": null,
      "height": null,
      "justify_content": null,
      "justify_items": null,
      "left": null,
      "margin": null,
      "max_height": null,
      "max_width": null,
      "min_height": null,
      "min_width": null,
      "object_fit": null,
      "object_position": null,
      "order": null,
      "overflow": null,
      "overflow_x": null,
      "overflow_y": null,
      "padding": null,
      "right": null,
      "top": null,
      "visibility": null,
      "width": null
     }
    },
    "cc7017c7ba4745bfb38a513e2bf7a349": {
     "model_module": "@jupyter-widgets/base",
     "model_name": "LayoutModel",
     "state": {
      "_model_module": "@jupyter-widgets/base",
      "_model_module_version": "1.2.0",
      "_model_name": "LayoutModel",
      "_view_count": null,
      "_view_module": "@jupyter-widgets/base",
      "_view_module_version": "1.2.0",
      "_view_name": "LayoutView",
      "align_content": null,
      "align_items": null,
      "align_self": null,
      "border": null,
      "bottom": null,
      "display": null,
      "flex": null,
      "flex_flow": null,
      "grid_area": null,
      "grid_auto_columns": null,
      "grid_auto_flow": null,
      "grid_auto_rows": null,
      "grid_column": null,
      "grid_gap": null,
      "grid_row": null,
      "grid_template_areas": null,
      "grid_template_columns": null,
      "grid_template_rows": null,
      "height": null,
      "justify_content": null,
      "justify_items": null,
      "left": null,
      "margin": null,
      "max_height": null,
      "max_width": null,
      "min_height": null,
      "min_width": null,
      "object_fit": null,
      "object_position": null,
      "order": null,
      "overflow": null,
      "overflow_x": null,
      "overflow_y": null,
      "padding": null,
      "right": null,
      "top": null,
      "visibility": null,
      "width": null
     }
    },
    "d0d422d882b7402d8f7afde31651a076": {
     "model_module": "@jupyter-widgets/controls",
     "model_name": "DescriptionStyleModel",
     "state": {
      "_model_module": "@jupyter-widgets/controls",
      "_model_module_version": "1.5.0",
      "_model_name": "DescriptionStyleModel",
      "_view_count": null,
      "_view_module": "@jupyter-widgets/base",
      "_view_module_version": "1.2.0",
      "_view_name": "StyleView",
      "description_width": ""
     }
    },
    "d6b549c84d114c92909a5a4eec1bdc61": {
     "model_module": "@jupyter-widgets/controls",
     "model_name": "HBoxModel",
     "state": {
      "_dom_classes": [],
      "_model_module": "@jupyter-widgets/controls",
      "_model_module_version": "1.5.0",
      "_model_name": "HBoxModel",
      "_view_count": null,
      "_view_module": "@jupyter-widgets/controls",
      "_view_module_version": "1.5.0",
      "_view_name": "HBoxView",
      "box_style": "",
      "children": [
       "IPY_MODEL_3b4d2dd5c017409385e317f558138b2c",
       "IPY_MODEL_f8123fc80505428387f3bbf7b2c9382f"
      ],
      "layout": "IPY_MODEL_f640c74549b147d4b111ef728cf524b4"
     }
    },
    "ecda59a88d574c7f92ab13a84fb14b7f": {
     "model_module": "@jupyter-widgets/controls",
     "model_name": "ProgressStyleModel",
     "state": {
      "_model_module": "@jupyter-widgets/controls",
      "_model_module_version": "1.5.0",
      "_model_name": "ProgressStyleModel",
      "_view_count": null,
      "_view_module": "@jupyter-widgets/base",
      "_view_module_version": "1.2.0",
      "_view_name": "StyleView",
      "bar_color": null,
      "description_width": "initial"
     }
    },
    "f2cd4c60916741d1acae231240b14c24": {
     "model_module": "@jupyter-widgets/controls",
     "model_name": "ProgressStyleModel",
     "state": {
      "_model_module": "@jupyter-widgets/controls",
      "_model_module_version": "1.5.0",
      "_model_name": "ProgressStyleModel",
      "_view_count": null,
      "_view_module": "@jupyter-widgets/base",
      "_view_module_version": "1.2.0",
      "_view_name": "StyleView",
      "bar_color": null,
      "description_width": "initial"
     }
    },
    "f640c74549b147d4b111ef728cf524b4": {
     "model_module": "@jupyter-widgets/base",
     "model_name": "LayoutModel",
     "state": {
      "_model_module": "@jupyter-widgets/base",
      "_model_module_version": "1.2.0",
      "_model_name": "LayoutModel",
      "_view_count": null,
      "_view_module": "@jupyter-widgets/base",
      "_view_module_version": "1.2.0",
      "_view_name": "LayoutView",
      "align_content": null,
      "align_items": null,
      "align_self": null,
      "border": null,
      "bottom": null,
      "display": null,
      "flex": null,
      "flex_flow": null,
      "grid_area": null,
      "grid_auto_columns": null,
      "grid_auto_flow": null,
      "grid_auto_rows": null,
      "grid_column": null,
      "grid_gap": null,
      "grid_row": null,
      "grid_template_areas": null,
      "grid_template_columns": null,
      "grid_template_rows": null,
      "height": null,
      "justify_content": null,
      "justify_items": null,
      "left": null,
      "margin": null,
      "max_height": null,
      "max_width": null,
      "min_height": null,
      "min_width": null,
      "object_fit": null,
      "object_position": null,
      "order": null,
      "overflow": null,
      "overflow_x": null,
      "overflow_y": null,
      "padding": null,
      "right": null,
      "top": null,
      "visibility": null,
      "width": null
     }
    },
    "f8123fc80505428387f3bbf7b2c9382f": {
     "model_module": "@jupyter-widgets/controls",
     "model_name": "HTMLModel",
     "state": {
      "_dom_classes": [],
      "_model_module": "@jupyter-widgets/controls",
      "_model_module_version": "1.5.0",
      "_model_name": "HTMLModel",
      "_view_count": null,
      "_view_module": "@jupyter-widgets/controls",
      "_view_module_version": "1.5.0",
      "_view_name": "HTMLView",
      "description": "",
      "description_tooltip": null,
      "layout": "IPY_MODEL_47078065b7044cacb270200be7786d36",
      "placeholder": "​",
      "style": "IPY_MODEL_0f4031d6a8164885b745ae1484cd1f5b",
      "value": " 466k/466k [00:00&lt;00:00, 6.15MB/s]"
     }
    },
    "f81b16e932d248bcb1b644b85c735162": {
     "model_module": "@jupyter-widgets/controls",
     "model_name": "FloatProgressModel",
     "state": {
      "_dom_classes": [],
      "_model_module": "@jupyter-widgets/controls",
      "_model_module_version": "1.5.0",
      "_model_name": "FloatProgressModel",
      "_view_count": null,
      "_view_module": "@jupyter-widgets/controls",
      "_view_module_version": "1.5.0",
      "_view_name": "ProgressView",
      "bar_style": "success",
      "description": "Downloading: 100%",
      "description_tooltip": null,
      "layout": "IPY_MODEL_6a0b047b3a964112992cf27853ad5c4d",
      "max": 440473133,
      "min": 0,
      "orientation": "horizontal",
      "style": "IPY_MODEL_6290657e145949c3b119d6b3ddaa7889",
      "value": 440473133
     }
    }
   }
  }
 },
 "nbformat": 4,
 "nbformat_minor": 4
}
