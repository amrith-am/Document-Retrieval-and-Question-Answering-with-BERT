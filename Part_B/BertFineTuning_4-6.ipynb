{
 "cells": [
  {
   "cell_type": "markdown",
   "metadata": {
    "id": "HG5IWpP03PMj"
   },
   "source": [
    "### Install transformers library"
   ]
  },
  {
   "cell_type": "code",
   "execution_count": null,
   "metadata": {
    "colab": {
     "base_uri": "https://localhost:8080/"
    },
    "id": "uC-Kx4ij3T6a",
    "outputId": "f889735a-076a-4ea4-9ad3-9d400dacf63e"
   },
   "outputs": [
    {
     "name": "stdout",
     "output_type": "stream",
     "text": [
      "Collecting transformers\n",
      "\u001b[?25l  Downloading https://files.pythonhosted.org/packages/88/b1/41130a228dd656a1a31ba281598a968320283f48d42782845f6ba567f00b/transformers-4.2.2-py3-none-any.whl (1.8MB)\n",
      "\u001b[K     |████████████████████████████████| 1.8MB 8.7MB/s eta 0:00:01\n",
      "\u001b[?25hRequirement already satisfied: regex!=2019.12.17 in /usr/local/lib/python3.6/dist-packages (from transformers) (2019.12.20)\n",
      "Requirement already satisfied: filelock in /usr/local/lib/python3.6/dist-packages (from transformers) (3.0.12)\n",
      "Requirement already satisfied: dataclasses; python_version < \"3.7\" in /usr/local/lib/python3.6/dist-packages (from transformers) (0.8)\n",
      "Collecting tokenizers==0.9.4\n",
      "\u001b[?25l  Downloading https://files.pythonhosted.org/packages/0f/1c/e789a8b12e28be5bc1ce2156cf87cb522b379be9cadc7ad8091a4cc107c4/tokenizers-0.9.4-cp36-cp36m-manylinux2010_x86_64.whl (2.9MB)\n",
      "\u001b[K     |████████████████████████████████| 2.9MB 51.5MB/s \n",
      "\u001b[?25hRequirement already satisfied: packaging in /usr/local/lib/python3.6/dist-packages (from transformers) (20.8)\n",
      "Requirement already satisfied: requests in /usr/local/lib/python3.6/dist-packages (from transformers) (2.23.0)\n",
      "Requirement already satisfied: numpy in /usr/local/lib/python3.6/dist-packages (from transformers) (1.19.5)\n",
      "Requirement already satisfied: importlib-metadata; python_version < \"3.8\" in /usr/local/lib/python3.6/dist-packages (from transformers) (3.3.0)\n",
      "Collecting sacremoses\n",
      "\u001b[?25l  Downloading https://files.pythonhosted.org/packages/7d/34/09d19aff26edcc8eb2a01bed8e98f13a1537005d31e95233fd48216eed10/sacremoses-0.0.43.tar.gz (883kB)\n",
      "\u001b[K     |████████████████████████████████| 890kB 50.6MB/s \n",
      "\u001b[?25hRequirement already satisfied: tqdm>=4.27 in /usr/local/lib/python3.6/dist-packages (from transformers) (4.41.1)\n",
      "Requirement already satisfied: pyparsing>=2.0.2 in /usr/local/lib/python3.6/dist-packages (from packaging->transformers) (2.4.7)\n",
      "Requirement already satisfied: urllib3!=1.25.0,!=1.25.1,<1.26,>=1.21.1 in /usr/local/lib/python3.6/dist-packages (from requests->transformers) (1.24.3)\n",
      "Requirement already satisfied: certifi>=2017.4.17 in /usr/local/lib/python3.6/dist-packages (from requests->transformers) (2020.12.5)\n",
      "Requirement already satisfied: chardet<4,>=3.0.2 in /usr/local/lib/python3.6/dist-packages (from requests->transformers) (3.0.4)\n",
      "Requirement already satisfied: idna<3,>=2.5 in /usr/local/lib/python3.6/dist-packages (from requests->transformers) (2.10)\n",
      "Requirement already satisfied: zipp>=0.5 in /usr/local/lib/python3.6/dist-packages (from importlib-metadata; python_version < \"3.8\"->transformers) (3.4.0)\n",
      "Requirement already satisfied: typing-extensions>=3.6.4; python_version < \"3.8\" in /usr/local/lib/python3.6/dist-packages (from importlib-metadata; python_version < \"3.8\"->transformers) (3.7.4.3)\n",
      "Requirement already satisfied: six in /usr/local/lib/python3.6/dist-packages (from sacremoses->transformers) (1.15.0)\n",
      "Requirement already satisfied: click in /usr/local/lib/python3.6/dist-packages (from sacremoses->transformers) (7.1.2)\n",
      "Requirement already satisfied: joblib in /usr/local/lib/python3.6/dist-packages (from sacremoses->transformers) (1.0.0)\n",
      "Building wheels for collected packages: sacremoses\n",
      "  Building wheel for sacremoses (setup.py) ... \u001b[?25l\u001b[?25hdone\n",
      "  Created wheel for sacremoses: filename=sacremoses-0.0.43-cp36-none-any.whl size=893261 sha256=212631c5850fe83dc86cc4d754dc46f5291a0a9387a29a55bcd8a35a3bf6c5f8\n",
      "  Stored in directory: /root/.cache/pip/wheels/29/3c/fd/7ce5c3f0666dab31a50123635e6fb5e19ceb42ce38d4e58f45\n",
      "Successfully built sacremoses\n",
      "Installing collected packages: tokenizers, sacremoses, transformers\n",
      "Successfully installed sacremoses-0.0.43 tokenizers-0.9.4 transformers-4.2.2\n"
     ]
    }
   ],
   "source": [
    "!pip install transformers"
   ]
  },
  {
   "cell_type": "markdown",
   "metadata": {
    "id": "kAFnm5Hwt-OK"
   },
   "source": [
    "### Essential libraries imported"
   ]
  },
  {
   "cell_type": "code",
   "execution_count": null,
   "metadata": {
    "colab": {
     "base_uri": "https://localhost:8080/"
    },
    "id": "0cwevUPEt9s-",
    "outputId": "8d116d83-7fc8-44f8-e057-83a0902a2d3a"
   },
   "outputs": [
    {
     "name": "stdout",
     "output_type": "stream",
     "text": [
      "Mounted at /content/drive\n"
     ]
    }
   ],
   "source": [
    "import json,torch,time,pickle\n",
    "import matplotlib.pyplot as plt \n",
    "from pathlib import Path\n",
    "from transformers import BertTokenizer,AutoTokenizer,AdamW,BertForQuestionAnswering,BertTokenizerFast\n",
    "from torch.utils.data import DataLoader\n",
    "from google.colab import drive\n",
    "drive.mount(\"/content/drive\") "
   ]
  },
  {
   "cell_type": "markdown",
   "metadata": {
    "id": "gxn9mp20tAW0"
   },
   "source": [
    "### Retrieve SQuAD 2.0 dataset"
   ]
  },
  {
   "cell_type": "code",
   "execution_count": null,
   "metadata": {
    "colab": {
     "base_uri": "https://localhost:8080/"
    },
    "id": "Rv89xnnjimny",
    "outputId": "24b22882-3349-4816-e454-cadd05034372"
   },
   "outputs": [
    {
     "name": "stdout",
     "output_type": "stream",
     "text": [
      "--2021-01-25 07:08:52--  https://rajpurkar.github.io/SQuAD-explorer/dataset/train-v2.0.json\n",
      "Resolving rajpurkar.github.io (rajpurkar.github.io)... 185.199.108.153, 185.199.109.153, 185.199.110.153, ...\n",
      "Connecting to rajpurkar.github.io (rajpurkar.github.io)|185.199.108.153|:443... connected.\n",
      "HTTP request sent, awaiting response... 200 OK\n",
      "Length: 42123633 (40M) [application/json]\n",
      "Saving to: ‘squad/train-v2.0.json’\n",
      "\n",
      "squad/train-v2.0.js 100%[===================>]  40.17M   139MB/s    in 0.3s    \n",
      "\n",
      "2021-01-25 07:08:53 (139 MB/s) - ‘squad/train-v2.0.json’ saved [42123633/42123633]\n",
      "\n",
      "--2021-01-25 07:08:53--  https://rajpurkar.github.io/SQuAD-explorer/dataset/dev-v2.0.json\n",
      "Resolving rajpurkar.github.io (rajpurkar.github.io)... 185.199.108.153, 185.199.109.153, 185.199.110.153, ...\n",
      "Connecting to rajpurkar.github.io (rajpurkar.github.io)|185.199.108.153|:443... connected.\n",
      "HTTP request sent, awaiting response... 200 OK\n",
      "Length: 4370528 (4.2M) [application/json]\n",
      "Saving to: ‘squad/dev-v2.0.json’\n",
      "\n",
      "squad/dev-v2.0.json 100%[===================>]   4.17M  --.-KB/s    in 0.1s    \n",
      "\n",
      "2021-01-25 07:08:53 (34.9 MB/s) - ‘squad/dev-v2.0.json’ saved [4370528/4370528]\n",
      "\n"
     ]
    }
   ],
   "source": [
    "!mkdir squad  \n",
    "!wget https://rajpurkar.github.io/SQuAD-explorer/dataset/train-v2.0.json -O squad/train-v2.0.json\n",
    "!wget https://rajpurkar.github.io/SQuAD-explorer/dataset/dev-v2.0.json -O squad/dev-v2.0.json"
   ]
  },
  {
   "cell_type": "markdown",
   "metadata": {
    "id": "OsWRMwlR6DwQ"
   },
   "source": [
    "### Prepare GPU Cuda."
   ]
  },
  {
   "cell_type": "code",
   "execution_count": null,
   "metadata": {
    "colab": {
     "base_uri": "https://localhost:8080/"
    },
    "id": "hN25lAzQ6Jws",
    "outputId": "a229bb58-42df-4d80-a895-9a51ba48d852"
   },
   "outputs": [
    {
     "name": "stdout",
     "output_type": "stream",
     "text": [
      "Device available for running: \n",
      "cuda\n"
     ]
    }
   ],
   "source": [
    "device = torch.device(\"cuda\" if torch.cuda.is_available() else \"cpu\")\n",
    "print(\"Device available for running: \")\n",
    "print(device)"
   ]
  },
  {
   "cell_type": "markdown",
   "metadata": {
    "id": "x1i0eo-ZuCpW"
   },
   "source": [
    "### Obtain train and validation data (contexts,questions,answers) from json files"
   ]
  },
  {
   "cell_type": "code",
   "execution_count": null,
   "metadata": {
    "id": "4Km1KD8esc6i"
   },
   "outputs": [],
   "source": [
    "def read_squad(path):\n",
    "  path = Path(path)\n",
    "  with open(path, 'rb') as f:\n",
    "    squad_dict = json.load(f)\n",
    "\n",
    "  contexts = []\n",
    "  questions = []\n",
    "  answers = []\n",
    "  for group in squad_dict['data']:\n",
    "    for passage in group['paragraphs']:\n",
    "      context = passage['context']\n",
    "      for qa in passage['qas']:\n",
    "        question = qa['question']\n",
    "        for answer in qa['answers']:\n",
    "          contexts.append(context)\n",
    "          questions.append(question)\n",
    "          answers.append(answer)\n",
    "\n",
    "  return contexts, questions, answers\n",
    "\n",
    "# Obtain train contexts,questions and answers\n",
    "train_contexts, train_questions, train_answers = read_squad('squad/train-v2.0.json')\n",
    "\n",
    "# Obtain validation contexts,questions and answers\n",
    "val_contexts, val_questions, val_answers = read_squad('squad/dev-v2.0.json')"
   ]
  },
  {
   "cell_type": "markdown",
   "metadata": {
    "id": "8a3PcpbWjB8y"
   },
   "source": [
    "### Just a random printing for safety reasons\n",
    "\n"
   ]
  },
  {
   "cell_type": "code",
   "execution_count": null,
   "metadata": {
    "colab": {
     "base_uri": "https://localhost:8080/",
     "height": 717
    },
    "id": "jNAVfYyruGdX",
    "outputId": "07e4bed1-1960-4df9-e94f-97df29e0aee2"
   },
   "outputs": [
    {
     "name": "stdout",
     "output_type": "stream",
     "text": [
      "============================== Train Dataset ======================================\n",
      "\n",
      "Contexts length: 86821\n",
      "Questions: 86821\n",
      "Answers length: 86821\n",
      "\n",
      "\n"
     ]
    },
    {
     "data": {
      "application/vnd.google.colaboratory.intrinsic+json": {
       "type": "string"
      },
      "text/plain": [
       "'Beyoncé Giselle Knowles-Carter (/biːˈjɒnseɪ/ bee-YON-say) (born September 4, 1981) is an American singer, songwriter, record producer and actress. Born and raised in Houston, Texas, she performed in various singing and dancing competitions as a child, and rose to fame in the late 1990s as lead singer of R&B girl-group Destiny\\'s Child. Managed by her father, Mathew Knowles, the group became one of the world\\'s best-selling girl groups of all time. Their hiatus saw the release of Beyoncé\\'s debut album, Dangerously in Love (2003), which established her as a solo artist worldwide, earned five Grammy Awards and featured the Billboard Hot 100 number-one singles \"Crazy in Love\" and \"Baby Boy\".'"
      ]
     },
     "metadata": {
      "tags": []
     },
     "output_type": "display_data"
    },
    {
     "name": "stdout",
     "output_type": "stream",
     "text": [
      "\n",
      "\n"
     ]
    },
    {
     "data": {
      "application/vnd.google.colaboratory.intrinsic+json": {
       "type": "string"
      },
      "text/plain": [
       "'When did Beyonce start becoming popular?'"
      ]
     },
     "metadata": {
      "tags": []
     },
     "output_type": "display_data"
    },
    {
     "name": "stdout",
     "output_type": "stream",
     "text": [
      "\n",
      "\n"
     ]
    },
    {
     "data": {
      "text/plain": [
       "{'answer_start': 269, 'text': 'in the late 1990s'}"
      ]
     },
     "metadata": {
      "tags": []
     },
     "output_type": "display_data"
    },
    {
     "name": "stdout",
     "output_type": "stream",
     "text": [
      "\n",
      "\n",
      "============================== Val Dataset =======================================\n",
      "\n",
      "Contexts length: 20302\n",
      "Questions: 20302\n",
      "Answers length: 20302\n",
      "\n",
      "\n"
     ]
    },
    {
     "data": {
      "application/vnd.google.colaboratory.intrinsic+json": {
       "type": "string"
      },
      "text/plain": [
       "'The Normans (Norman: Nourmands; French: Normands; Latin: Normanni) were the people who in the 10th and 11th centuries gave their name to Normandy, a region in France. They were descended from Norse (\"Norman\" comes from \"Norseman\") raiders and pirates from Denmark, Iceland and Norway who, under their leader Rollo, agreed to swear fealty to King Charles III of West Francia. Through generations of assimilation and mixing with the native Frankish and Roman-Gaulish populations, their descendants would gradually merge with the Carolingian-based cultures of West Francia. The distinct cultural and ethnic identity of the Normans emerged initially in the first half of the 10th century, and it continued to evolve over the succeeding centuries.'"
      ]
     },
     "metadata": {
      "tags": []
     },
     "output_type": "display_data"
    },
    {
     "name": "stdout",
     "output_type": "stream",
     "text": [
      "\n",
      "\n"
     ]
    },
    {
     "data": {
      "application/vnd.google.colaboratory.intrinsic+json": {
       "type": "string"
      },
      "text/plain": [
       "'In what country is Normandy located?'"
      ]
     },
     "metadata": {
      "tags": []
     },
     "output_type": "display_data"
    },
    {
     "name": "stdout",
     "output_type": "stream",
     "text": [
      "\n",
      "\n"
     ]
    },
    {
     "data": {
      "text/plain": [
       "{'answer_start': 159, 'text': 'France'}"
      ]
     },
     "metadata": {
      "tags": []
     },
     "output_type": "display_data"
    },
    {
     "name": "stdout",
     "output_type": "stream",
     "text": [
      "\n",
      "\n"
     ]
    }
   ],
   "source": [
    "def test_print(contexts,questions,answers):\n",
    "  print(\"Contexts length:\",len(contexts))\n",
    "  print(\"Questions:\",len(questions))\n",
    "  print(\"Answers length:\",len(answers))\n",
    "\n",
    "  print(\"\\n\")\n",
    "  display(contexts[0])  \n",
    "  print(\"\\n\")\n",
    "  display(questions[0])\n",
    "  print(\"\\n\")\n",
    "  display(answers[0])\n",
    "  print(\"\\n\")\n",
    "\n",
    "print(\"============================== Train Dataset ======================================\\n\")\n",
    "test_print(train_contexts,train_questions,train_answers)\n",
    "print(\"============================== Val Dataset =======================================\\n\")\n",
    "test_print(val_contexts,val_questions,val_answers)"
   ]
  },
  {
   "cell_type": "markdown",
   "metadata": {
    "id": "zgNjqt5709bD"
   },
   "source": [
    "### Find the character position that answer of each question ends and store it "
   ]
  },
  {
   "cell_type": "code",
   "execution_count": null,
   "metadata": {
    "id": "p_Cvq0jow0S8"
   },
   "outputs": [],
   "source": [
    "def add_end_idx(answers, contexts):\n",
    "  \n",
    "  # Loop through answers and contexts\n",
    "  for answer, context in zip(answers, contexts):\n",
    "   \n",
    "    # Get the appropriate answer\n",
    "    gold_text = answer['text']\n",
    "    # Get position, where answer starts\n",
    "    start_idx = answer['answer_start']\n",
    "    # Calculate position in which answer ends\n",
    "    end_idx = start_idx + len(gold_text)\n",
    "\n",
    "    # Sometimes squad answers are off by a character or two – fix this\n",
    "    if context[start_idx:end_idx] == gold_text:\n",
    "      answer['answer_end'] = end_idx\n",
    "    # When the gold label is off by one character (shifted by 1 position right, so solve it)\n",
    "    elif context[start_idx-1:end_idx-1] == gold_text:\n",
    "      answer['answer_start'] = start_idx - 1\n",
    "      answer['answer_end'] = end_idx - 1    \n",
    "    # When the gold label is off by two characters (shifted by 2 positions right, so solve it)\n",
    "    elif context[start_idx-2:end_idx-2] == gold_text:\n",
    "      answer['answer_start'] = start_idx - 2\n",
    "      answer['answer_end'] = end_idx - 2     \n",
    "\n",
    "add_end_idx(train_answers, train_contexts)\n",
    "add_end_idx(val_answers, val_contexts)"
   ]
  },
  {
   "cell_type": "markdown",
   "metadata": {
    "id": "LIGMvo0S1NKm"
   },
   "source": [
    "### Tokenization of pairs context/questions\n"
   ]
  },
  {
   "cell_type": "code",
   "execution_count": null,
   "metadata": {
    "colab": {
     "base_uri": "https://localhost:8080/",
     "height": 116,
     "referenced_widgets": [
      "1a8ccfa0a90345ab8ce2b732880bbe24",
      "dbb1a8422bcd43819917e3b7c064d82e",
      "2318ff84dce440eeb327a51cd7becfb1",
      "6645eee40a1a46fa83776b1796567c20",
      "89940dee6f8c46d9bf736f87276588df",
      "f6ef88c946c84368ac58f6207f7ae3f3",
      "d7db32a906854f40b8dcfa42792cc70f",
      "e19fa541aa8246a6a19188119df1f3df",
      "b60cda325b13422e80a0d6621e6f97c7",
      "beeb822a90334dfda8b50f8b70f9ef7d",
      "4a8cda50a2564a469993856397734187",
      "5974eea652504dd7a380dac5778fbf5f",
      "a359c8dcdc5e493e8167dbc743e133e9",
      "566eeee03c05419a8956f63c1b46db32",
      "013f9cf1dbfe46809c246c656dd7755b",
      "ddfd5206649546ad9825e8383df7cb74"
     ]
    },
    "id": "KzxUPiam0nlG",
    "outputId": "26d0df50-9522-4bc0-bbf1-1b4b7f8b7799"
   },
   "outputs": [
    {
     "data": {
      "application/vnd.jupyter.widget-view+json": {
       "model_id": "1a8ccfa0a90345ab8ce2b732880bbe24",
       "version_major": 2,
       "version_minor": 0
      },
      "text/plain": [
       "HBox(children=(FloatProgress(value=0.0, description='Downloading', max=231508.0, style=ProgressStyle(descripti…"
      ]
     },
     "metadata": {
      "tags": []
     },
     "output_type": "display_data"
    },
    {
     "name": "stdout",
     "output_type": "stream",
     "text": [
      "\n"
     ]
    },
    {
     "data": {
      "application/vnd.jupyter.widget-view+json": {
       "model_id": "b60cda325b13422e80a0d6621e6f97c7",
       "version_major": 2,
       "version_minor": 0
      },
      "text/plain": [
       "HBox(children=(FloatProgress(value=0.0, description='Downloading', max=466062.0, style=ProgressStyle(descripti…"
      ]
     },
     "metadata": {
      "tags": []
     },
     "output_type": "display_data"
    },
    {
     "name": "stdout",
     "output_type": "stream",
     "text": [
      "\n"
     ]
    }
   ],
   "source": [
    "tokenizer = BertTokenizerFast.from_pretrained('bert-base-uncased')\n",
    "# tokenizer = AutoTokenizer.from_pretrained('bert-base-uncased')\n",
    "\n",
    "train_encodings = tokenizer(train_contexts, train_questions, truncation=True, padding=True)\n",
    "val_encodings = tokenizer(val_contexts, val_questions, truncation=True, padding=True)"
   ]
  },
  {
   "cell_type": "markdown",
   "metadata": {
    "id": "-j7AOow7ja5J"
   },
   "source": [
    "``` \n",
    "Note that we experimented with both tokenizers (AutoTokenizer and BertTokenizerFast). As we discovered AutoTokenizer is absolutely \n",
    "the same with BertTokenizer, but finally we decided that BertTokenizerFast is the Tokenizer we need, and that due to the fact \n",
    "that, it offers a built in method called 'char_to_token', which we are going to use it right after.\n",
    "```"
   ]
  },
  {
   "cell_type": "markdown",
   "metadata": {
    "id": "IBCE1qfU6UKu"
   },
   "source": [
    "### Convert charachter start/end positions to token start/end positions. \n",
    "### Note that we can use function char_to_token, cause we used BertTokenizerFast!\n",
    "\n"
   ]
  },
  {
   "cell_type": "code",
   "execution_count": null,
   "metadata": {
    "id": "mKjiUrNF6eFy"
   },
   "outputs": [],
   "source": [
    "def add_token_positions(encodings, answers):\n",
    "  \n",
    "  # Declare empty lists\n",
    "  start_positions = []\n",
    "  end_positions = []\n",
    "\n",
    "  for i in range(len(answers)):\n",
    "  \n",
    "    # Convert character with which answers starts/ends to token and store it to start_positions/end_positions list\n",
    "    start_positions.append(encodings.char_to_token(i, answers[i]['answer_start']))\n",
    "    end_positions.append(encodings.char_to_token(i, answers[i]['answer_end']))\n",
    "\n",
    "    # If start position is None, the answer passage has been truncated\n",
    "    if start_positions[-1] is None:\n",
    "      start_positions[-1] = tokenizer.model_max_length\n",
    "\n",
    "    # Here we have some examples of our dataset in which the appropriate answer is at the end of context and has came out of range.\n",
    "    # For example if length of one context is 460 then the last character's position is 459 (zero indexing), but answer end position \n",
    "    # which is stored is 460, so char_to_token returns None, cause it is out of range. We must subtract one, in order to fix this problem.     \n",
    "    # If end position is None, the 'char_to_token' function points to the space before the correct token - > add - 1\n",
    "    if end_positions[-1] is None:\n",
    "      end_positions[-1] = encodings.char_to_token(i, answers[i]['answer_end'] - 1)\n",
    "      # If end position is still None, then we just drop this sample (approximately 2-3 examples -exceptions- are gonna pass this)\n",
    "      if end_positions[-1] is None:\n",
    "        end_positions[-1] = tokenizer.model_max_length\n",
    "\n",
    "    # If everything is fine no printing gonna take place (clear up all None values, cause we'll have problem with model's training)\n",
    "    if end_positions[-1] is None:\n",
    "      print(i,end_positions[-1],answers[i]['answer_end'])\n",
    "\n",
    "  # At the end of whole process update encodings with start and end positions\n",
    "  encodings.update({'start_positions': start_positions, 'end_positions': end_positions})\n",
    "\n",
    "add_token_positions(train_encodings, train_answers)\n",
    "add_token_positions(val_encodings, val_answers)"
   ]
  },
  {
   "cell_type": "markdown",
   "metadata": {
    "id": "lLy2c1WsFlb4"
   },
   "source": [
    "### Create custom SquadDataset class for our train and validation dataset"
   ]
  },
  {
   "cell_type": "code",
   "execution_count": null,
   "metadata": {
    "id": "dzC05VSR6fM_"
   },
   "outputs": [],
   "source": [
    "class SquadDataset(torch.utils.data.Dataset):\n",
    "  def __init__(self, encodings):\n",
    "    self.encodings = encodings\n",
    "\n",
    "  def __getitem__(self, idx):\n",
    "    return {key: torch.tensor(val[idx]) for key, val in self.encodings.items()}\n",
    "\n",
    "  def __len__(self):\n",
    "    return len(self.encodings.input_ids)\n",
    "\n",
    "# Use custom class SquadDataset (inherits from torch.utils.data.Dataset) in order to convert encodings to datasets\n",
    "train_dataset = SquadDataset(train_encodings)\n",
    "val_dataset = SquadDataset(val_encodings)\n",
    "\n",
    "# Use from torch library DataLoader to make train and validation process easier for us (as we'll have ready batches)\n",
    "train_loader = DataLoader(train_dataset, batch_size=8, shuffle=True)\n",
    "val_loader = DataLoader(val_dataset, batch_size=8, shuffle=True)"
   ]
  },
  {
   "cell_type": "markdown",
   "metadata": {
    "id": "fZrixEG9pncB"
   },
   "source": [
    "### Official evaluation script for SQuAD version 2.0.\n"
   ]
  },
  {
   "cell_type": "code",
   "execution_count": null,
   "metadata": {
    "id": "ugF9lRDJpm_a"
   },
   "outputs": [],
   "source": [
    "# \"\"\"Official evaluation script for SQuAD version 2.0.\n",
    "\n",
    "# In addition to basic functionality, we also compute additional statistics and\n",
    "# plot precision-recall curves if an additional na_prob.json file is provided.\n",
    "# This file is expected to map questi4on ID's to the model's predicted probability\n",
    "# that a question is unanswerable.\n",
    "# \"\"\"\n",
    "# import argparse\n",
    "# import collections\n",
    "# import json\n",
    "# import numpy as np\n",
    "# import os\n",
    "# import re\n",
    "# import string\n",
    "# import sys\n",
    "\n",
    "# OPTS = None\n",
    "\n",
    "# def parse_args():\n",
    "#   parser = argparse.ArgumentParser('Official evaluation script for SQuAD version 2.0.')\n",
    "#   parser.add_argument('data_file', metavar='data.json', help='Input data JSON file.')\n",
    "#   parser.add_argument('pred_file', metavar='pred.json', help='Model predictions.')\n",
    "#   parser.add_argument('--out-file', '-o', metavar='eval.json',\n",
    "#                       help='Write accuracy metrics to file (default is stdout).')\n",
    "#   parser.add_argument('--na-prob-file', '-n', metavar='na_prob.json',\n",
    "#                       help='Model estimates of probability of no answer.')\n",
    "#   parser.add_argument('--na-prob-thresh', '-t', type=float, default=1.0,\n",
    "#                       help='Predict \"\" if no-answer probability exceeds this (default = 1.0).')\n",
    "#   parser.add_argument('--out-image-dir', '-p', metavar='out_images', default=None,\n",
    "#                       help='Save precision-recall curves to directory.')\n",
    "#   parser.add_argument('--verbose', '-v', action='store_true')\n",
    "#   if len(sys.argv) == 1:\n",
    "#     parser.print_help()\n",
    "#     sys.exit(1)\n",
    "#   return parser.parse_args()\n",
    "\n",
    "# def make_qid_to_has_ans(dataset):\n",
    "#   qid_to_has_ans = {}\n",
    "#   for article in dataset:\n",
    "#     for p in article['paragraphs']:\n",
    "#       for qa in p['qas']:\n",
    "#         qid_to_has_ans[qa['id']] = bool(qa['answers'])\n",
    "#   return qid_to_has_ans\n",
    "\n",
    "# def normalize_answer(s):\n",
    "#   \"\"\"Lower text and remove punctuation, articles and extra whitespace.\"\"\"\n",
    "#   def remove_articles(text):\n",
    "#     regex = re.compile(r'\\b(a|an|the)\\b', re.UNICODE)\n",
    "#     return re.sub(regex, ' ', text)\n",
    "#   def white_space_fix(text):\n",
    "#     return ' '.join(text.split())\n",
    "#   def remove_punc(text):\n",
    "#     exclude = set(string.punctuation)\n",
    "#     return ''.join(ch for ch in text if ch not in exclude)\n",
    "#   def lower(text):\n",
    "#     return text.lower()\n",
    "#   return white_space_fix(remove_articles(remove_punc(lower(s))))\n",
    "\n",
    "# def get_tokens(s):\n",
    "#   if not s: return []\n",
    "#   return normalize_answer(s).split()\n",
    "\n",
    "# def compute_exact(a_gold, a_pred):\n",
    "#   return int(normalize_answer(a_gold) == normalize_answer(a_pred))\n",
    "\n",
    "# def compute_f1(a_gold, a_pred):\n",
    "#   gold_toks = get_tokens(a_gold)\n",
    "#   pred_toks = get_tokens(a_pred)\n",
    "#   common = collections.Counter(gold_toks) & collections.Counter(pred_toks)\n",
    "#   num_same = sum(common.values())\n",
    "#   if len(gold_toks) == 0 or len(pred_toks) == 0:\n",
    "#     # If either is no-answer, then F1 is 1 if they agree, 0 otherwise\n",
    "#     return int(gold_toks == pred_toks)\n",
    "#   if num_same == 0:\n",
    "#     return 0\n",
    "#   precision = 1.0 * num_same / len(pred_toks)\n",
    "#   recall = 1.0 * num_same / len(gold_toks)\n",
    "#   f1 = (2 * precision * recall) / (precision + recall)\n",
    "#   return f1\n",
    "\n",
    "# def get_raw_scores(dataset, preds):\n",
    "#   exact_scores = {}\n",
    "#   f1_scores = {}\n",
    "#   for article in dataset:\n",
    "#     for p in article['paragraphs']:\n",
    "#       for qa in p['qas']:\n",
    "#         qid = qa['id']\n",
    "#         gold_answers = [a['text'] for a in qa['answers']\n",
    "#                         if normalize_answer(a['text'])]\n",
    "#         if not gold_answers:\n",
    "#           # For unanswerable questions, only correct answer is empty string\n",
    "#           gold_answers = ['']\n",
    "#         if qid not in preds:\n",
    "#           print('Missing prediction for %s' % qid)\n",
    "#           continue\n",
    "#         a_pred = preds[qid]\n",
    "#         # Take max over all gold answers\n",
    "#         exact_scores[qid] = max(compute_exact(a, a_pred) for a in gold_answers)\n",
    "#         f1_scores[qid] = max(compute_f1(a, a_pred) for a in gold_answers)\n",
    "#   return exact_scores, f1_scores\n",
    "\n",
    "# def apply_no_ans_threshold(scores, na_probs, qid_to_has_ans, na_prob_thresh):\n",
    "#   new_scores = {}\n",
    "#   for qid, s in scores.items():\n",
    "#     pred_na = na_probs[qid] > na_prob_thresh\n",
    "#     if pred_na:\n",
    "#       new_scores[qid] = float(not qid_to_has_ans[qid])\n",
    "#     else:\n",
    "#       new_scores[qid] = s\n",
    "#   return new_scores\n",
    "\n",
    "# def make_eval_dict(exact_scores, f1_scores, qid_list=None):\n",
    "#   if not qid_list:\n",
    "#     total = len(exact_scores)\n",
    "#     return collections.OrderedDict([\n",
    "#         ('exact', 100.0 * sum(exact_scores.values()) / total),\n",
    "#         ('f1', 100.0 * sum(f1_scores.values()) / total),\n",
    "#         ('total', total),\n",
    "#     ])\n",
    "#   else:\n",
    "#     total = len(qid_list)\n",
    "#     return collections.OrderedDict([\n",
    "#         ('exact', 100.0 * sum(exact_scores[k] for k in qid_list) / total),\n",
    "#         ('f1', 100.0 * sum(f1_scores[k] for k in qid_list) / total),\n",
    "#         ('total', total),\n",
    "#     ])\n",
    "\n",
    "# def merge_eval(main_eval, new_eval, prefix):\n",
    "#   for k in new_eval:\n",
    "#     main_eval['%s_%s' % (prefix, k)] = new_eval[k]\n",
    "\n",
    "# def plot_pr_curve(precisions, recalls, out_image, title):\n",
    "#   plt.step(recalls, precisions, color='b', alpha=0.2, where='post')\n",
    "#   plt.fill_between(recalls, precisions, step='post', alpha=0.2, color='b')\n",
    "#   plt.xlabel('Recall')\n",
    "#   plt.ylabel('Precision')\n",
    "#   plt.xlim([0.0, 1.05])\n",
    "#   plt.ylim([0.0, 1.05])\n",
    "#   plt.title(title)\n",
    "#   plt.savefig(out_image)\n",
    "#   plt.clf()\n",
    "\n",
    "# def make_precision_recall_eval(scores, na_probs, num_true_pos, qid_to_has_ans,\n",
    "#                                out_image=None, title=None):\n",
    "#   qid_list = sorted(na_probs, key=lambda k: na_probs[k])\n",
    "#   true_pos = 0.0\n",
    "#   cur_p = 1.0\n",
    "#   cur_r = 0.0\n",
    "#   precisions = [1.0]\n",
    "#   recalls = [0.0]\n",
    "#   avg_prec = 0.0\n",
    "#   for i, qid in enumerate(qid_list):\n",
    "#     if qid_to_has_ans[qid]:\n",
    "#       true_pos += scores[qid]\n",
    "#     cur_p = true_pos / float(i+1)\n",
    "#     cur_r = true_pos / float(num_true_pos)\n",
    "#     if i == len(qid_list) - 1 or na_probs[qid] != na_probs[qid_list[i+1]]:\n",
    "#       # i.e., if we can put a threshold after this point\n",
    "#       avg_prec += cur_p * (cur_r - recalls[-1])\n",
    "#       precisions.append(cur_p)\n",
    "#       recalls.append(cur_r)\n",
    "#   if out_image:\n",
    "#     plot_pr_curve(precisions, recalls, out_image, title)\n",
    "#   return {'ap': 100.0 * avg_prec}\n",
    "\n",
    "# def run_precision_recall_analysis(main_eval, exact_raw, f1_raw, na_probs, \n",
    "#                                   qid_to_has_ans, out_image_dir):\n",
    "#   if out_image_dir and not os.path.exists(out_image_dir):\n",
    "#     os.makedirs(out_image_dir)\n",
    "#   num_true_pos = sum(1 for v in qid_to_has_ans.values() if v)\n",
    "#   if num_true_pos == 0:\n",
    "#     return\n",
    "#   pr_exact = make_precision_recall_eval(\n",
    "#       exact_raw, na_probs, num_true_pos, qid_to_has_ans,\n",
    "#       out_image=os.path.join(out_image_dir, 'pr_exact.png'),\n",
    "#       title='Precision-Recall curve for Exact Match score')\n",
    "#   pr_f1 = make_precision_recall_eval(\n",
    "#       f1_raw, na_probs, num_true_pos, qid_to_has_ans,\n",
    "#       out_image=os.path.join(out_image_dir, 'pr_f1.png'),\n",
    "#       title='Precision-Recall curve for F1 score')\n",
    "#   oracle_scores = {k: float(v) for k, v in qid_to_has_ans.items()}\n",
    "#   pr_oracle = make_precision_recall_eval(\n",
    "#       oracle_scores, na_probs, num_true_pos, qid_to_has_ans,\n",
    "#       out_image=os.path.join(out_image_dir, 'pr_oracle.png'),\n",
    "#       title='Oracle Precision-Recall curve (binary task of HasAns vs. NoAns)')\n",
    "#   merge_eval(main_eval, pr_exact, 'pr_exact')\n",
    "#   merge_eval(main_eval, pr_f1, 'pr_f1')\n",
    "#   merge_eval(main_eval, pr_oracle, 'pr_oracle')\n",
    "\n",
    "# def histogram_na_prob(na_probs, qid_list, image_dir, name):\n",
    "#   if not qid_list:\n",
    "#     return\n",
    "#   x = [na_probs[k] for k in qid_list]\n",
    "#   weights = np.ones_like(x) / float(len(x))\n",
    "#   plt.hist(x, weights=weights, bins=20, range=(0.0, 1.0))\n",
    "#   plt.xlabel('Model probability of no-answer')\n",
    "#   plt.ylabel('Proportion of dataset')\n",
    "#   plt.title('Histogram of no-answer probability: %s' % name)\n",
    "#   plt.savefig(os.path.join(image_dir, 'na_prob_hist_%s.png' % name))\n",
    "#   plt.clf()\n",
    "\n",
    "# def find_best_thresh(preds, scores, na_probs, qid_to_has_ans):\n",
    "#   num_no_ans = sum(1 for k in qid_to_has_ans if not qid_to_has_ans[k])\n",
    "#   cur_score = num_no_ans\n",
    "#   best_score = cur_score\n",
    "#   best_thresh = 0.0\n",
    "#   qid_list = sorted(na_probs, key=lambda k: na_probs[k])\n",
    "#   for i, qid in enumerate(qid_list):\n",
    "#     if qid not in scores: continue\n",
    "#     if qid_to_has_ans[qid]:\n",
    "#       diff = scores[qid]\n",
    "#     else:\n",
    "#       if preds[qid]:\n",
    "#         diff = -1\n",
    "#       else:\n",
    "#         diff = 0\n",
    "#     cur_score += diff\n",
    "#     if cur_score > best_score:\n",
    "#       best_score = cur_score\n",
    "#       best_thresh = na_probs[qid]\n",
    "#   return 100.0 * best_score / len(scores), best_thresh\n",
    "\n",
    "# def find_all_best_thresh(main_eval, preds, exact_raw, f1_raw, na_probs, qid_to_has_ans):\n",
    "#   best_exact, exact_thresh = find_best_thresh(preds, exact_raw, na_probs, qid_to_has_ans)\n",
    "#   best_f1, f1_thresh = find_best_thresh(preds, f1_raw, na_probs, qid_to_has_ans)\n",
    "#   main_eval['best_exact'] = best_exact\n",
    "#   main_eval['best_exact_thresh'] = exact_thresh\n",
    "#   main_eval['best_f1'] = best_f1\n",
    "#   main_eval['best_f1_thresh'] = f1_thresh\n",
    "\n",
    "# def main():\n",
    "#   with open(OPTS.data_file) as f:\n",
    "#     dataset_json = json.load(f)\n",
    "#     dataset = dataset_json['data']\n",
    "#   with open(OPTS.pred_file) as f:\n",
    "#     preds = json.load(f)\n",
    "#   if OPTS.na_prob_file:\n",
    "#     with open(OPTS.na_prob_file) as f:\n",
    "#       na_probs = json.load(f)\n",
    "#   else:\n",
    "#     na_probs = {k: 0.0 for k in preds}\n",
    "#   qid_to_has_ans = make_qid_to_has_ans(dataset)  # maps qid to True/False\n",
    "#   has_ans_qids = [k for k, v in qid_to_has_ans.items() if v]\n",
    "#   no_ans_qids = [k for k, v in qid_to_has_ans.items() if not v]\n",
    "#   exact_raw, f1_raw = get_raw_scores(dataset, preds)\n",
    "#   exact_thresh = apply_no_ans_threshold(exact_raw, na_probs, qid_to_has_ans,\n",
    "#                                         OPTS.na_prob_thresh)\n",
    "#   f1_thresh = apply_no_ans_threshold(f1_raw, na_probs, qid_to_has_ans,\n",
    "#                                      OPTS.na_prob_thresh)\n",
    "#   out_eval = make_eval_dict(exact_thresh, f1_thresh)\n",
    "#   if has_ans_qids:\n",
    "#     has_ans_eval = make_eval_dict(exact_thresh, f1_thresh, qid_list=has_ans_qids)\n",
    "#     merge_eval(out_eval, has_ans_eval, 'HasAns')\n",
    "#   if no_ans_qids:\n",
    "#     no_ans_eval = make_eval_dict(exact_thresh, f1_thresh, qid_list=no_ans_qids)\n",
    "#     merge_eval(out_eval, no_ans_eval, 'NoAns')\n",
    "#   if OPTS.na_prob_file:\n",
    "#     find_all_best_thresh(out_eval, preds, exact_raw, f1_raw, na_probs, qid_to_has_ans)\n",
    "#   if OPTS.na_prob_file and OPTS.out_image_dir:\n",
    "#     run_precision_recall_analysis(out_eval, exact_raw, f1_raw, na_probs, \n",
    "#                                   qid_to_has_ans, OPTS.out_image_dir)\n",
    "#     histogram_na_prob(na_probs, has_ans_qids, OPTS.out_image_dir, 'hasAns')\n",
    "#     histogram_na_prob(na_probs, no_ans_qids, OPTS.out_image_dir, 'noAns')\n",
    "#   if OPTS.out_file:\n",
    "#     with open(OPTS.out_file, 'w') as f:\n",
    "#       json.dump(out_eval, f)\n",
    "#   else:\n",
    "#     print(json.dumps(out_eval, indent=2))\n",
    "\n",
    "# # if __name__ == '__main__':\n",
    "# #   OPTS = parse_args()\n",
    "# #   if OPTS.out_image_dir:\n",
    "# #     import matplotlib\n",
    "# #     matplotlib.use('Agg')\n",
    "# #     import matplotlib.pyplot as plt \n",
    "# #   main()"
   ]
  },
  {
   "cell_type": "markdown",
   "metadata": {
    "id": "fGyqtbW8Fxek"
   },
   "source": [
    "### Define optimizer and instatiate or load BERT model"
   ]
  },
  {
   "cell_type": "code",
   "execution_count": null,
   "metadata": {
    "colab": {
     "base_uri": "https://localhost:8080/"
    },
    "id": "ii4DB3WVFw5P",
    "outputId": "99300034-5954-4bb8-c043-c5e0ab09714f"
   },
   "outputs": [
    {
     "name": "stdout",
     "output_type": "stream",
     "text": [
      ">If this is the first time and you want to retrieve BERT model then insert 0.\n",
      ">If you want to load trained model give me the last epoch of your training.\n",
      "3\n"
     ]
    }
   ],
   "source": [
    "last_old_epoch = int(input(\"\"\">If this is the first time and you want to retrieve BERT model then insert 0.\\n>If you want to load trained model give me the last epoch of your training.\\n\"\"\")) \n",
    "if last_old_epoch==0:\n",
    "  # New model, first time obtained\n",
    "  model = BertForQuestionAnswering.from_pretrained('bert-base-uncased').to(device)\n",
    "else:\n",
    "  # Load model that we fine tuned it\n",
    "  model = torch.load(\"/content/drive/MyDrive/bert/bert_\"+str(last_old_epoch))\n",
    "\n",
    "optim = AdamW(model.parameters(), lr=5e-5)\n",
    "\n",
    "epochs = 3"
   ]
  },
  {
   "cell_type": "markdown",
   "metadata": {
    "id": "ojyZ4u7xap0H"
   },
   "source": [
    "> In case of BERT's instation... note that these warnings are more than expected, cause hugging face library warns us that without fine tuning our model we'll get bad results (awful performance...). So let's try to train our model!"
   ]
  },
  {
   "cell_type": "markdown",
   "metadata": {
    "id": "vszq-7daoG0V"
   },
   "source": [
    "### Implementation of functions train_model and eval_model"
   ]
  },
  {
   "cell_type": "code",
   "execution_count": null,
   "metadata": {
    "id": "Uso09CgojclT"
   },
   "outputs": [],
   "source": [
    "def train_model(model_,optim_,train_loader_,train_losses_):\n",
    "  \"\"\"\n",
    "  Function for model's training \n",
    "  on training SQuAD dataset 2.0\n",
    "  \"\"\"\n",
    "  model_.train()\n",
    "  \n",
    "  epoch_loss = 0\n",
    "\n",
    "  for batch_idx,batch in enumerate(train_loader_):\n",
    "    batch_time = time.time()\n",
    "    \n",
    "    optim_.zero_grad()\n",
    "\n",
    "    input_ids = batch['input_ids'].to(device)\n",
    "    attention_mask = batch['attention_mask'].to(device)\n",
    "    start_positions = batch['start_positions'].to(device)\n",
    "    end_positions = batch['end_positions'].to(device)\n",
    "    \n",
    "    outputs = model_(input_ids, attention_mask=attention_mask, start_positions=start_positions, end_positions=end_positions)\n",
    "    loss = outputs[0]\n",
    "    loss.backward()\n",
    "    optim_.step()\n",
    "    epoch_loss += loss.item()\n",
    "\n",
    "    if (batch_idx+1) % 1000 == 0:\n",
    "      print('======== Batch {:} / {:} ========'.format(batch_idx+1,len(train_loader_)),\"\\nLoss:\", round(loss.item(),1),\"| Time: %s seconds\" % (round((time.time() - batch_time),1)),\"\\n\")\n",
    "  \n",
    "  epoch_loss /= len(train_loader_)\n",
    "  train_losses_.append(epoch_loss)\n",
    "\n",
    "def eval_model(model_,val_loader_,val_losses_):\n",
    "  \"\"\"\n",
    "  Function for model's evaluation \n",
    "  on validation SQuAD dataset 2.0\n",
    "  \"\"\"\n",
    "  model_.eval()\n",
    "\n",
    "  epoch_loss = 0\n",
    "\n",
    "  for batch_idx,batch in enumerate(val_loader_):\n",
    "    batch_time = time.time()\n",
    "    \n",
    "    with torch.no_grad():\n",
    "\n",
    "      input_ids = batch['input_ids'].to(device)\n",
    "      attention_mask = batch['attention_mask'].to(device)\n",
    "      start_positions = batch['start_positions'].to(device)\n",
    "      end_positions = batch['end_positions'].to(device)\n",
    "      \n",
    "      outputs = model_(input_ids, attention_mask=attention_mask, start_positions=start_positions, end_positions=end_positions)\n",
    "      loss = outputs[0]\n",
    "      epoch_loss += loss.item()\n",
    "\n",
    "    if (batch_idx+1) % 1000 == 0:\n",
    "       print('======== Batch {:} / {:} ========'.format(batch_idx+1,len(val_loader_)),\"\\nLoss:\", round(loss.item(),1),\"| Time: %s seconds\" % (round((time.time() - batch_time),1)),\"\\n\")\n",
    "\n",
    "  epoch_loss /= len(val_loader_)\n",
    "  val_losses_.append(epoch_loss)"
   ]
  },
  {
   "cell_type": "markdown",
   "metadata": {
    "id": "KaWuStTVob5Z"
   },
   "source": [
    "### Model's training"
   ]
  },
  {
   "cell_type": "code",
   "execution_count": null,
   "metadata": {
    "colab": {
     "base_uri": "https://localhost:8080/"
    },
    "id": "mxVgjzLLjep5",
    "outputId": "1ee4e626-fa32-4174-d923-e8ec4ce7bdfb"
   },
   "outputs": [
    {
     "name": "stdout",
     "output_type": "stream",
     "text": [
      "~~~~~~ Training just started! We'll train in range of 3-6 epochs! ~~~~~~\n",
      "\n",
      "----------- Train Dataset -----------\n",
      "\n",
      "======== Batch 1000 / 10853 ======== \n",
      "Loss: 1.0 | Time: 0.9 seconds \n",
      "\n",
      "======== Batch 2000 / 10853 ======== \n",
      "Loss: 0.3 | Time: 0.9 seconds \n",
      "\n",
      "======== Batch 3000 / 10853 ======== \n",
      "Loss: 0.5 | Time: 0.9 seconds \n",
      "\n",
      "======== Batch 4000 / 10853 ======== \n",
      "Loss: 0.4 | Time: 0.9 seconds \n",
      "\n",
      "======== Batch 5000 / 10853 ======== \n",
      "Loss: 0.2 | Time: 0.9 seconds \n",
      "\n",
      "======== Batch 6000 / 10853 ======== \n",
      "Loss: 0.2 | Time: 0.9 seconds \n",
      "\n",
      "======== Batch 7000 / 10853 ======== \n",
      "Loss: 0.2 | Time: 0.9 seconds \n",
      "\n",
      "======== Batch 8000 / 10853 ======== \n",
      "Loss: 1.0 | Time: 0.9 seconds \n",
      "\n",
      "======== Batch 9000 / 10853 ======== \n",
      "Loss: 1.2 | Time: 0.9 seconds \n",
      "\n",
      "======== Batch 10000 / 10853 ======== \n",
      "Loss: 0.1 | Time: 0.9 seconds \n",
      "\n",
      "-------- Validation Dataset ---------\n",
      "\n",
      "======== Batch 1000 / 2538 ======== \n",
      "Loss: 1.4 | Time: 0.3 seconds \n",
      "\n",
      "======== Batch 2000 / 2538 ======== \n",
      "Loss: 0.7 | Time: 0.3 seconds \n",
      "\n",
      "\n",
      "=================== Epoch 4 / 6 =================== \n",
      "Train Loss: 0.6 | Val Loss: 1.3 | Time: 172.3 minutes \n",
      "\n",
      "\n",
      "----------- Train Dataset -----------\n",
      "\n",
      "======== Batch 1000 / 10853 ======== \n",
      "Loss: 0.1 | Time: 0.9 seconds \n",
      "\n",
      "======== Batch 2000 / 10853 ======== \n",
      "Loss: 0.2 | Time: 0.9 seconds \n",
      "\n",
      "======== Batch 3000 / 10853 ======== \n",
      "Loss: 0.1 | Time: 0.9 seconds \n",
      "\n",
      "======== Batch 4000 / 10853 ======== \n",
      "Loss: 0.0 | Time: 0.9 seconds \n",
      "\n",
      "======== Batch 5000 / 10853 ======== \n",
      "Loss: 0.1 | Time: 0.9 seconds \n",
      "\n",
      "======== Batch 6000 / 10853 ======== \n",
      "Loss: 0.2 | Time: 0.9 seconds \n",
      "\n",
      "======== Batch 7000 / 10853 ======== \n",
      "Loss: 0.4 | Time: 0.9 seconds \n",
      "\n",
      "======== Batch 8000 / 10853 ======== \n",
      "Loss: 0.3 | Time: 0.9 seconds \n",
      "\n",
      "======== Batch 9000 / 10853 ======== \n",
      "Loss: 0.1 | Time: 0.9 seconds \n",
      "\n",
      "======== Batch 10000 / 10853 ======== \n",
      "Loss: 1.0 | Time: 0.9 seconds \n",
      "\n",
      "-------- Validation Dataset ---------\n",
      "\n",
      "======== Batch 1000 / 2538 ======== \n",
      "Loss: 1.8 | Time: 0.3 seconds \n",
      "\n",
      "======== Batch 2000 / 2538 ======== \n",
      "Loss: 1.3 | Time: 0.3 seconds \n",
      "\n",
      "\n",
      "=================== Epoch 5 / 6 =================== \n",
      "Train Loss: 0.5 | Val Loss: 1.5 | Time: 172.3 minutes \n",
      "\n",
      "\n",
      "----------- Train Dataset -----------\n",
      "\n",
      "======== Batch 1000 / 10853 ======== \n",
      "Loss: 0.2 | Time: 0.9 seconds \n",
      "\n",
      "======== Batch 2000 / 10853 ======== \n",
      "Loss: 0.6 | Time: 0.9 seconds \n",
      "\n",
      "======== Batch 3000 / 10853 ======== \n",
      "Loss: 0.2 | Time: 0.9 seconds \n",
      "\n",
      "======== Batch 4000 / 10853 ======== \n",
      "Loss: 0.1 | Time: 0.9 seconds \n",
      "\n",
      "======== Batch 5000 / 10853 ======== \n",
      "Loss: 0.3 | Time: 0.9 seconds \n",
      "\n",
      "======== Batch 6000 / 10853 ======== \n",
      "Loss: 1.0 | Time: 0.9 seconds \n",
      "\n",
      "======== Batch 7000 / 10853 ======== \n",
      "Loss: 0.3 | Time: 0.9 seconds \n",
      "\n",
      "======== Batch 8000 / 10853 ======== \n",
      "Loss: 0.2 | Time: 0.9 seconds \n",
      "\n",
      "======== Batch 9000 / 10853 ======== \n",
      "Loss: 0.1 | Time: 0.9 seconds \n",
      "\n",
      "======== Batch 10000 / 10853 ======== \n",
      "Loss: 1.6 | Time: 0.9 seconds \n",
      "\n",
      "-------- Validation Dataset ---------\n",
      "\n",
      "======== Batch 1000 / 2538 ======== \n",
      "Loss: 1.4 | Time: 0.3 seconds \n",
      "\n",
      "======== Batch 2000 / 2538 ======== \n",
      "Loss: 1.8 | Time: 0.3 seconds \n",
      "\n",
      "\n",
      "=================== Epoch 6 / 6 =================== \n",
      "Train Loss: 0.4 | Val Loss: 1.5 | Time: 172.5 minutes \n",
      "\n",
      "\n",
      "Total training time: 517.0 minutes\n"
     ]
    }
   ],
   "source": [
    "last_new_epoch = last_old_epoch + epochs\n",
    "\n",
    "print(\"~~~~~~ Training just started! We'll train in range of \"+str(last_old_epoch)+\"-\"+str(last_new_epoch)+\" epochs! ~~~~~~\\n\")\n",
    "\n",
    "training_time = time.time()\n",
    "\n",
    "train_losses = []\n",
    "val_losses = []\n",
    "\n",
    "for epoch in range(last_old_epoch,last_new_epoch):\n",
    "  \n",
    "  epoch_time = time.time()\n",
    "\n",
    "  print(\"----------- Train Dataset -----------\\n\")\n",
    "  train_model(model,optim,train_loader,train_losses)\n",
    "\n",
    "  print(\"-------- Validation Dataset ---------\\n\")\n",
    "  eval_model(model,val_loader,val_losses)\n",
    "\n",
    "  # Save model\n",
    "  torch.save(model,\"/content/drive/MyDrive/bert/bert_\"+str(epoch+1))\n",
    "  \n",
    "  # Save train losses\n",
    "  with open('/content/drive/MyDrive/bert/train_losses'+str(epoch+1)+'.pkl', 'wb') as f:\n",
    "    pickle.dump(train_losses,f)\n",
    "\n",
    "  # Save validation losses\n",
    "  with open('/content/drive/MyDrive/bert/val_losses'+str(epoch+1)+'.pkl', 'wb') as f:\n",
    "    pickle.dump(val_losses,f)\n",
    "\n",
    "  # Print each epoch's time and train/val loss \n",
    "  print('\\n=================== Epoch {:} / {:} ==================='.format(epoch+1,last_new_epoch),\n",
    "        \"\\nTrain Loss:\", round(train_losses[-1],1), \"| Val Loss:\", round(val_losses[-1],1),\"| Time: %s minutes\" % (round((time.time() - epoch_time)/60,1)),\"\\n\\n\")\n",
    "\n",
    "print(\"Total training time: %s minutes\" % (round((time.time() - training_time)/60,1)))"
   ]
  },
  {
   "cell_type": "markdown",
   "metadata": {
    "id": "NdZhRRaTbN9K"
   },
   "source": [
    "### Plot train and validation losses vs epochs"
   ]
  },
  {
   "cell_type": "code",
   "execution_count": null,
   "metadata": {
    "colab": {
     "base_uri": "https://localhost:8080/",
     "height": 554
    },
    "id": "eY0DPeEM0WCf",
    "outputId": "7df0a29b-b68d-4e73-f3ae-6fb7618e7202"
   },
   "outputs": [
    {
     "data": {
      "image/png": "[encoded data removed]",
      "text/plain": [
       "<Figure size 2160x720 with 1 Axes>"
      ]
     },
     "metadata": {
      "needs_background": "light",
      "tags": []
     },
     "output_type": "display_data"
    }
   ],
   "source": [
    "train_losses_loaded = []\n",
    "\n",
    "for i in range(last_new_epoch):\n",
    "  if (i+1) % epochs == 0:\n",
    "    # Load train losses\n",
    "    with open('/content/drive/MyDrive/bert/train_losses'+str(i+1)+'.pkl', 'rb') as f:\n",
    "      temp_list = pickle.load(f)\n",
    "      for elem in temp_list:\n",
    "        train_losses_loaded.append(elem)\n",
    "\n",
    "val_losses_loaded = []\n",
    "\n",
    "for i in range(last_new_epoch):\n",
    "  if (i+1) % epochs == 0:\n",
    "    # Load val losses\n",
    "    with open('/content/drive/MyDrive/bert/val_losses'+str(i+1)+'.pkl', 'rb') as f:\n",
    "      temp_list = pickle.load(f)\n",
    "      for elem in temp_list:\n",
    "        val_losses_loaded.append(elem)\n",
    "\n",
    "fig,ax = plt.subplots(1,1,figsize=(30,10))\n",
    "\n",
    "early_stopping = 0.35\n",
    "\n",
    "ax.set_title(\"Train and Validation Losses\",size=25)\n",
    "ax.set_ylabel('Loss', fontsize = 20.0) \n",
    "ax.set_xlabel('Epochs', fontsize = 20) \n",
    "_=ax.plot(train_losses_loaded,'-c')\n",
    "_=ax.plot(val_losses_loaded,'-m')\n",
    "_=ax.axvline(x=early_stopping,color='r')\n",
    "_=ax.legend(('Train','Val'),loc='upper right',fontsize='x-large')"
   ]
  },
  {
   "cell_type": "markdown",
   "metadata": {
    "id": "lH6-OwY0A-wC"
   },
   "source": [
    "> Here in this notebook we trained for epochs 4-6 and we displayed train and validation losses through whole 6 epochs of \n",
    "training! Obviously overfitting is still existing, cause train-val gap is growing, which was an expected progress of \n",
    "learning curves. But we want to be sure about model's behavior. As we can notice, model's training loss keeps gradually, \n",
    "with slower rhythm decreasing, more specifically from loss with value 0.6 decreased to 0.4, in contrast with validation \n",
    "loss which starts to rise up.\n",
    "\n",
    "> The major difference in this notebook is that instead of instatiating bert model, we loaded our pretrained model (with \n",
    "3 epochs), which we saved in the previous notebook! We managed to achieve this by simply giving the last old epoch of \n",
    "previous training, this was 3rd epoch and thus load the appropriate bert model's instance.\n",
    "\n",
    "> Note that we followed the method of training the entire architecture of bert-base-uncased model! We did further train the entire pre-trained model on our dataset. So, the error is back-propagated through the entire architecture and the pre-trained weights of the model are updated based on the new dataset. We choose this technique of fine tuning, instead of techniques which freeze partially layers of model or even whole architecture, cause Question-Answering is a pretty difficult task and to achieve as much as possible satisfying results in next notebook (BertEvaluation) we must use whole BERT.\n",
    "\n",
    ">Fine-tuning a model like this does not always lead to a better result, but it is definitely worth experimenting with. It is an easy adjustment that you can make to your code that has the potential to provide your model a boost with almost no cost.\n",
    "\n",
    "> After this training section our model has been trained for 6 epochs and in the last BertEvaluation notebook, we are \n",
    "going to evaluate its performance to questions-answers!"
   ]
  }
 ],
 "metadata": {
  "accelerator": "GPU",
  "colab": {
   "collapsed_sections": [
    "fZrixEG9pncB"
   ],
   "name": "BertFineTuning_4-6.ipynb",
   "provenance": []
  },
  "kernelspec": {
   "display_name": "Python 3",
   "language": "python",
   "name": "python3"
  },
  "language_info": {
   "codemirror_mode": {
    "name": "ipython",
    "version": 3
   },
   "file_extension": ".py",
   "mimetype": "text/x-python",
   "name": "python",
   "nbconvert_exporter": "python",
   "pygments_lexer": "ipython3",
   "version": "3.7.6"
  },
  "widgets": {
   "application/vnd.jupyter.widget-state+json": {
    "013f9cf1dbfe46809c246c656dd7755b": {
     "model_module": "@jupyter-widgets/controls",
     "model_name": "DescriptionStyleModel",
     "state": {
      "_model_module": "@jupyter-widgets/controls",
      "_model_module_version": "1.5.0",
      "_model_name": "DescriptionStyleModel",
      "_view_count": null,
      "_view_module": "@jupyter-widgets/base",
      "_view_module_version": "1.2.0",
      "_view_name": "StyleView",
      "description_width": ""
     }
    },
    "1a8ccfa0a90345ab8ce2b732880bbe24": {
     "model_module": "@jupyter-widgets/controls",
     "model_name": "HBoxModel",
     "state": {
      "_dom_classes": [],
      "_model_module": "@jupyter-widgets/controls",
      "_model_module_version": "1.5.0",
      "_model_name": "HBoxModel",
      "_view_count": null,
      "_view_module": "@jupyter-widgets/controls",
      "_view_module_version": "1.5.0",
      "_view_name": "HBoxView",
      "box_style": "",
      "children": [
       "IPY_MODEL_2318ff84dce440eeb327a51cd7becfb1",
       "IPY_MODEL_6645eee40a1a46fa83776b1796567c20"
      ],
      "layout": "IPY_MODEL_dbb1a8422bcd43819917e3b7c064d82e"
     }
    },
    "2318ff84dce440eeb327a51cd7becfb1": {
     "model_module": "@jupyter-widgets/controls",
     "model_name": "FloatProgressModel",
     "state": {
      "_dom_classes": [],
      "_model_module": "@jupyter-widgets/controls",
      "_model_module_version": "1.5.0",
      "_model_name": "FloatProgressModel",
      "_view_count": null,
      "_view_module": "@jupyter-widgets/controls",
      "_view_module_version": "1.5.0",
      "_view_name": "ProgressView",
      "bar_style": "success",
      "description": "Downloading: 100%",
      "description_tooltip": null,
      "layout": "IPY_MODEL_f6ef88c946c84368ac58f6207f7ae3f3",
      "max": 231508,
      "min": 0,
      "orientation": "horizontal",
      "style": "IPY_MODEL_89940dee6f8c46d9bf736f87276588df",
      "value": 231508
     }
    },
    "4a8cda50a2564a469993856397734187": {
     "model_module": "@jupyter-widgets/controls",
     "model_name": "FloatProgressModel",
     "state": {
      "_dom_classes": [],
      "_model_module": "@jupyter-widgets/controls",
      "_model_module_version": "1.5.0",
      "_model_name": "FloatProgressModel",
      "_view_count": null,
      "_view_module": "@jupyter-widgets/controls",
      "_view_module_version": "1.5.0",
      "_view_name": "ProgressView",
      "bar_style": "success",
      "description": "Downloading: 100%",
      "description_tooltip": null,
      "layout": "IPY_MODEL_566eeee03c05419a8956f63c1b46db32",
      "max": 466062,
      "min": 0,
      "orientation": "horizontal",
      "style": "IPY_MODEL_a359c8dcdc5e493e8167dbc743e133e9",
      "value": 466062
     }
    },
    "566eeee03c05419a8956f63c1b46db32": {
     "model_module": "@jupyter-widgets/base",
     "model_name": "LayoutModel",
     "state": {
      "_model_module": "@jupyter-widgets/base",
      "_model_module_version": "1.2.0",
      "_model_name": "LayoutModel",
      "_view_count": null,
      "_view_module": "@jupyter-widgets/base",
      "_view_module_version": "1.2.0",
      "_view_name": "LayoutView",
      "align_content": null,
      "align_items": null,
      "align_self": null,
      "border": null,
      "bottom": null,
      "display": null,
      "flex": null,
      "flex_flow": null,
      "grid_area": null,
      "grid_auto_columns": null,
      "grid_auto_flow": null,
      "grid_auto_rows": null,
      "grid_column": null,
      "grid_gap": null,
      "grid_row": null,
      "grid_template_areas": null,
      "grid_template_columns": null,
      "grid_template_rows": null,
      "height": null,
      "justify_content": null,
      "justify_items": null,
      "left": null,
      "margin": null,
      "max_height": null,
      "max_width": null,
      "min_height": null,
      "min_width": null,
      "object_fit": null,
      "object_position": null,
      "order": null,
      "overflow": null,
      "overflow_x": null,
      "overflow_y": null,
      "padding": null,
      "right": null,
      "top": null,
      "visibility": null,
      "width": null
     }
    },
    "5974eea652504dd7a380dac5778fbf5f": {
     "model_module": "@jupyter-widgets/controls",
     "model_name": "HTMLModel",
     "state": {
      "_dom_classes": [],
      "_model_module": "@jupyter-widgets/controls",
      "_model_module_version": "1.5.0",
      "_model_name": "HTMLModel",
      "_view_count": null,
      "_view_module": "@jupyter-widgets/controls",
      "_view_module_version": "1.5.0",
      "_view_name": "HTMLView",
      "description": "",
      "description_tooltip": null,
      "layout": "IPY_MODEL_ddfd5206649546ad9825e8383df7cb74",
      "placeholder": "​",
      "style": "IPY_MODEL_013f9cf1dbfe46809c246c656dd7755b",
      "value": " 466k/466k [00:00&lt;00:00, 1.37MB/s]"
     }
    },
    "6645eee40a1a46fa83776b1796567c20": {
     "model_module": "@jupyter-widgets/controls",
     "model_name": "HTMLModel",
     "state": {
      "_dom_classes": [],
      "_model_module": "@jupyter-widgets/controls",
      "_model_module_version": "1.5.0",
      "_model_name": "HTMLModel",
      "_view_count": null,
      "_view_module": "@jupyter-widgets/controls",
      "_view_module_version": "1.5.0",
      "_view_name": "HTMLView",
      "description": "",
      "description_tooltip": null,
      "layout": "IPY_MODEL_e19fa541aa8246a6a19188119df1f3df",
      "placeholder": "​",
      "style": "IPY_MODEL_d7db32a906854f40b8dcfa42792cc70f",
      "value": " 232k/232k [00:01&lt;00:00, 227kB/s]"
     }
    },
    "89940dee6f8c46d9bf736f87276588df": {
     "model_module": "@jupyter-widgets/controls",
     "model_name": "ProgressStyleModel",
     "state": {
      "_model_module": "@jupyter-widgets/controls",
      "_model_module_version": "1.5.0",
      "_model_name": "ProgressStyleModel",
      "_view_count": null,
      "_view_module": "@jupyter-widgets/base",
      "_view_module_version": "1.2.0",
      "_view_name": "StyleView",
      "bar_color": null,
      "description_width": "initial"
     }
    },
    "a359c8dcdc5e493e8167dbc743e133e9": {
     "model_module": "@jupyter-widgets/controls",
     "model_name": "ProgressStyleModel",
     "state": {
      "_model_module": "@jupyter-widgets/controls",
      "_model_module_version": "1.5.0",
      "_model_name": "ProgressStyleModel",
      "_view_count": null,
      "_view_module": "@jupyter-widgets/base",
      "_view_module_version": "1.2.0",
      "_view_name": "StyleView",
      "bar_color": null,
      "description_width": "initial"
     }
    },
    "b60cda325b13422e80a0d6621e6f97c7": {
     "model_module": "@jupyter-widgets/controls",
     "model_name": "HBoxModel",
     "state": {
      "_dom_classes": [],
      "_model_module": "@jupyter-widgets/controls",
      "_model_module_version": "1.5.0",
      "_model_name": "HBoxModel",
      "_view_count": null,
      "_view_module": "@jupyter-widgets/controls",
      "_view_module_version": "1.5.0",
      "_view_name": "HBoxView",
      "box_style": "",
      "children": [
       "IPY_MODEL_4a8cda50a2564a469993856397734187",
       "IPY_MODEL_5974eea652504dd7a380dac5778fbf5f"
      ],
      "layout": "IPY_MODEL_beeb822a90334dfda8b50f8b70f9ef7d"
     }
    },
    "beeb822a90334dfda8b50f8b70f9ef7d": {
     "model_module": "@jupyter-widgets/base",
     "model_name": "LayoutModel",
     "state": {
      "_model_module": "@jupyter-widgets/base",
      "_model_module_version": "1.2.0",
      "_model_name": "LayoutModel",
      "_view_count": null,
      "_view_module": "@jupyter-widgets/base",
      "_view_module_version": "1.2.0",
      "_view_name": "LayoutView",
      "align_content": null,
      "align_items": null,
      "align_self": null,
      "border": null,
      "bottom": null,
      "display": null,
      "flex": null,
      "flex_flow": null,
      "grid_area": null,
      "grid_auto_columns": null,
      "grid_auto_flow": null,
      "grid_auto_rows": null,
      "grid_column": null,
      "grid_gap": null,
      "grid_row": null,
      "grid_template_areas": null,
      "grid_template_columns": null,
      "grid_template_rows": null,
      "height": null,
      "justify_content": null,
      "justify_items": null,
      "left": null,
      "margin": null,
      "max_height": null,
      "max_width": null,
      "min_height": null,
      "min_width": null,
      "object_fit": null,
      "object_position": null,
      "order": null,
      "overflow": null,
      "overflow_x": null,
      "overflow_y": null,
      "padding": null,
      "right": null,
      "top": null,
      "visibility": null,
      "width": null
     }
    },
    "d7db32a906854f40b8dcfa42792cc70f": {
     "model_module": "@jupyter-widgets/controls",
     "model_name": "DescriptionStyleModel",
     "state": {
      "_model_module": "@jupyter-widgets/controls",
      "_model_module_version": "1.5.0",
      "_model_name": "DescriptionStyleModel",
      "_view_count": null,
      "_view_module": "@jupyter-widgets/base",
      "_view_module_version": "1.2.0",
      "_view_name": "StyleView",
      "description_width": ""
     }
    },
    "dbb1a8422bcd43819917e3b7c064d82e": {
     "model_module": "@jupyter-widgets/base",
     "model_name": "LayoutModel",
     "state": {
      "_model_module": "@jupyter-widgets/base",
      "_model_module_version": "1.2.0",
      "_model_name": "LayoutModel",
      "_view_count": null,
      "_view_module": "@jupyter-widgets/base",
      "_view_module_version": "1.2.0",
      "_view_name": "LayoutView",
      "align_content": null,
      "align_items": null,
      "align_self": null,
      "border": null,
      "bottom": null,
      "display": null,
      "flex": null,
      "flex_flow": null,
      "grid_area": null,
      "grid_auto_columns": null,
      "grid_auto_flow": null,
      "grid_auto_rows": null,
      "grid_column": null,
      "grid_gap": null,
      "grid_row": null,
      "grid_template_areas": null,
      "grid_template_columns": null,
      "grid_template_rows": null,
      "height": null,
      "justify_content": null,
      "justify_items": null,
      "left": null,
      "margin": null,
      "max_height": null,
      "max_width": null,
      "min_height": null,
      "min_width": null,
      "object_fit": null,
      "object_position": null,
      "order": null,
      "overflow": null,
      "overflow_x": null,
      "overflow_y": null,
      "padding": null,
      "right": null,
      "top": null,
      "visibility": null,
      "width": null
     }
    },
    "ddfd5206649546ad9825e8383df7cb74": {
     "model_module": "@jupyter-widgets/base",
     "model_name": "LayoutModel",
     "state": {
      "_model_module": "@jupyter-widgets/base",
      "_model_module_version": "1.2.0",
      "_model_name": "LayoutModel",
      "_view_count": null,
      "_view_module": "@jupyter-widgets/base",
      "_view_module_version": "1.2.0",
      "_view_name": "LayoutView",
      "align_content": null,
      "align_items": null,
      "align_self": null,
      "border": null,
      "bottom": null,
      "display": null,
      "flex": null,
      "flex_flow": null,
      "grid_area": null,
      "grid_auto_columns": null,
      "grid_auto_flow": null,
      "grid_auto_rows": null,
      "grid_column": null,
      "grid_gap": null,
      "grid_row": null,
      "grid_template_areas": null,
      "grid_template_columns": null,
      "grid_template_rows": null,
      "height": null,
      "justify_content": null,
      "justify_items": null,
      "left": null,
      "margin": null,
      "max_height": null,
      "max_width": null,
      "min_height": null,
      "min_width": null,
      "object_fit": null,
      "object_position": null,
      "order": null,
      "overflow": null,
      "overflow_x": null,
      "overflow_y": null,
      "padding": null,
      "right": null,
      "top": null,
      "visibility": null,
      "width": null
     }
    },
    "e19fa541aa8246a6a19188119df1f3df": {
     "model_module": "@jupyter-widgets/base",
     "model_name": "LayoutModel",
     "state": {
      "_model_module": "@jupyter-widgets/base",
      "_model_module_version": "1.2.0",
      "_model_name": "LayoutModel",
      "_view_count": null,
      "_view_module": "@jupyter-widgets/base",
      "_view_module_version": "1.2.0",
      "_view_name": "LayoutView",
      "align_content": null,
      "align_items": null,
      "align_self": null,
      "border": null,
      "bottom": null,
      "display": null,
      "flex": null,
      "flex_flow": null,
      "grid_area": null,
      "grid_auto_columns": null,
      "grid_auto_flow": null,
      "grid_auto_rows": null,
      "grid_column": null,
      "grid_gap": null,
      "grid_row": null,
      "grid_template_areas": null,
      "grid_template_columns": null,
      "grid_template_rows": null,
      "height": null,
      "justify_content": null,
      "justify_items": null,
      "left": null,
      "margin": null,
      "max_height": null,
      "max_width": null,
      "min_height": null,
      "min_width": null,
      "object_fit": null,
      "object_position": null,
      "order": null,
      "overflow": null,
      "overflow_x": null,
      "overflow_y": null,
      "padding": null,
      "right": null,
      "top": null,
      "visibility": null,
      "width": null
     }
    },
    "f6ef88c946c84368ac58f6207f7ae3f3": {
     "model_module": "@jupyter-widgets/base",
     "model_name": "LayoutModel",
     "state": {
      "_model_module": "@jupyter-widgets/base",
      "_model_module_version": "1.2.0",
      "_model_name": "LayoutModel",
      "_view_count": null,
      "_view_module": "@jupyter-widgets/base",
      "_view_module_version": "1.2.0",
      "_view_name": "LayoutView",
      "align_content": null,
      "align_items": null,
      "align_self": null,
      "border": null,
      "bottom": null,
      "display": null,
      "flex": null,
      "flex_flow": null,
      "grid_area": null,
      "grid_auto_columns": null,
      "grid_auto_flow": null,
      "grid_auto_rows": null,
      "grid_column": null,
      "grid_gap": null,
      "grid_row": null,
      "grid_template_areas": null,
      "grid_template_columns": null,
      "grid_template_rows": null,
      "height": null,
      "justify_content": null,
      "justify_items": null,
      "left": null,
      "margin": null,
      "max_height": null,
      "max_width": null,
      "min_height": null,
      "min_width": null,
      "object_fit": null,
      "object_position": null,
      "order": null,
      "overflow": null,
      "overflow_x": null,
      "overflow_y": null,
      "padding": null,
      "right": null,
      "top": null,
      "visibility": null,
      "width": null
     }
    }
   }
  }
 },
 "nbformat": 4,
 "nbformat_minor": 4
}
